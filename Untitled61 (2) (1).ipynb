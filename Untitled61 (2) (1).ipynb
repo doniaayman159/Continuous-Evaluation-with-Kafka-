{
 "cells": [
  {
   "cell_type": "markdown",
   "metadata": {
    "id": "cgVH5AesFI4r"
   },
   "source": [
    "#Importing Libraries"
   ]
  },
  {
   "cell_type": "code",
   "execution_count": 254,
   "metadata": {
    "id": "LOAKyM02sIkk"
   },
   "outputs": [],
   "source": [
    "import pandas as pd\n",
    "import seaborn as sns\n",
    "import matplotlib.pyplot as plt\n",
    "from sklearn.model_selection import train_test_split\n",
    "from sklearn.ensemble import RandomForestClassifier\n",
    "from sklearn.linear_model import LogisticRegression\n",
    "from sklearn.metrics import f1_score\n",
    "from sklearn.feature_selection import SelectKBest, chi2\n",
    "from sklearn.feature_selection import f_classif\n",
    "from sklearn.feature_selection import mutual_info_classif\n",
    "from sklearn.preprocessing import MinMaxScaler\n",
    "from sklearn.pipeline import Pipeline\n",
    "from sklearn.model_selection import GridSearchCV\n",
    "import pickle\n",
    "from sklearn.metrics import confusion_matrix"
   ]
  },
  {
   "cell_type": "code",
   "execution_count": 255,
   "metadata": {
    "id": "4g1m3u6MDrcU"
   },
   "outputs": [],
   "source": [
    "import pandas as pd\n",
    "import numpy as np"
   ]
  },
  {
   "cell_type": "code",
   "execution_count": 256,
   "metadata": {
    "colab": {
     "base_uri": "https://localhost:8080/",
     "height": 206
    },
    "id": "LZ8H47irFIbk",
    "outputId": "605c303f-938b-4121-ab45-7225d06618d7"
   },
   "outputs": [
    {
     "data": {
      "text/html": [
       "<div>\n",
       "<style scoped>\n",
       "    .dataframe tbody tr th:only-of-type {\n",
       "        vertical-align: middle;\n",
       "    }\n",
       "\n",
       "    .dataframe tbody tr th {\n",
       "        vertical-align: top;\n",
       "    }\n",
       "\n",
       "    .dataframe thead th {\n",
       "        text-align: right;\n",
       "    }\n",
       "</style>\n",
       "<table border=\"1\" class=\"dataframe\">\n",
       "  <thead>\n",
       "    <tr style=\"text-align: right;\">\n",
       "      <th></th>\n",
       "      <th>timestamp</th>\n",
       "      <th>FQDN_count</th>\n",
       "      <th>subdomain_length</th>\n",
       "      <th>upper</th>\n",
       "      <th>lower</th>\n",
       "      <th>numeric</th>\n",
       "      <th>entropy</th>\n",
       "      <th>special</th>\n",
       "      <th>labels</th>\n",
       "      <th>labels_max</th>\n",
       "      <th>labels_average</th>\n",
       "      <th>longest_word</th>\n",
       "      <th>sld</th>\n",
       "      <th>len</th>\n",
       "      <th>subdomain</th>\n",
       "      <th>Target Attack</th>\n",
       "    </tr>\n",
       "  </thead>\n",
       "  <tbody>\n",
       "    <tr>\n",
       "      <th>0</th>\n",
       "      <td>56:19.8</td>\n",
       "      <td>27</td>\n",
       "      <td>10</td>\n",
       "      <td>0</td>\n",
       "      <td>10</td>\n",
       "      <td>11</td>\n",
       "      <td>2.570417</td>\n",
       "      <td>6</td>\n",
       "      <td>6</td>\n",
       "      <td>7</td>\n",
       "      <td>3.666667</td>\n",
       "      <td>2</td>\n",
       "      <td>192</td>\n",
       "      <td>14</td>\n",
       "      <td>1</td>\n",
       "      <td>1</td>\n",
       "    </tr>\n",
       "    <tr>\n",
       "      <th>1</th>\n",
       "      <td>07:23.9</td>\n",
       "      <td>27</td>\n",
       "      <td>10</td>\n",
       "      <td>0</td>\n",
       "      <td>10</td>\n",
       "      <td>11</td>\n",
       "      <td>2.767195</td>\n",
       "      <td>6</td>\n",
       "      <td>6</td>\n",
       "      <td>7</td>\n",
       "      <td>3.666667</td>\n",
       "      <td>2</td>\n",
       "      <td>192</td>\n",
       "      <td>14</td>\n",
       "      <td>1</td>\n",
       "      <td>1</td>\n",
       "    </tr>\n",
       "    <tr>\n",
       "      <th>2</th>\n",
       "      <td>23:15.1</td>\n",
       "      <td>26</td>\n",
       "      <td>9</td>\n",
       "      <td>0</td>\n",
       "      <td>10</td>\n",
       "      <td>10</td>\n",
       "      <td>2.742338</td>\n",
       "      <td>6</td>\n",
       "      <td>6</td>\n",
       "      <td>7</td>\n",
       "      <td>3.500000</td>\n",
       "      <td>2</td>\n",
       "      <td>192</td>\n",
       "      <td>13</td>\n",
       "      <td>1</td>\n",
       "      <td>0</td>\n",
       "    </tr>\n",
       "    <tr>\n",
       "      <th>3</th>\n",
       "      <td>04:51.9</td>\n",
       "      <td>27</td>\n",
       "      <td>10</td>\n",
       "      <td>0</td>\n",
       "      <td>10</td>\n",
       "      <td>11</td>\n",
       "      <td>2.570417</td>\n",
       "      <td>6</td>\n",
       "      <td>6</td>\n",
       "      <td>7</td>\n",
       "      <td>3.666667</td>\n",
       "      <td>2</td>\n",
       "      <td>192</td>\n",
       "      <td>14</td>\n",
       "      <td>1</td>\n",
       "      <td>1</td>\n",
       "    </tr>\n",
       "    <tr>\n",
       "      <th>4</th>\n",
       "      <td>12:44.0</td>\n",
       "      <td>15</td>\n",
       "      <td>9</td>\n",
       "      <td>0</td>\n",
       "      <td>11</td>\n",
       "      <td>0</td>\n",
       "      <td>2.929439</td>\n",
       "      <td>4</td>\n",
       "      <td>3</td>\n",
       "      <td>5</td>\n",
       "      <td>4.333333</td>\n",
       "      <td>local</td>\n",
       "      <td>local</td>\n",
       "      <td>15</td>\n",
       "      <td>1</td>\n",
       "      <td>1</td>\n",
       "    </tr>\n",
       "  </tbody>\n",
       "</table>\n",
       "</div>"
      ],
      "text/plain": [
       "  timestamp  FQDN_count  subdomain_length  upper  lower  numeric   entropy  \\\n",
       "0   56:19.8          27                10      0     10       11  2.570417   \n",
       "1   07:23.9          27                10      0     10       11  2.767195   \n",
       "2   23:15.1          26                 9      0     10       10  2.742338   \n",
       "3   04:51.9          27                10      0     10       11  2.570417   \n",
       "4   12:44.0          15                 9      0     11        0  2.929439   \n",
       "\n",
       "   special  labels  labels_max  labels_average longest_word    sld  len  \\\n",
       "0        6       6           7        3.666667            2    192   14   \n",
       "1        6       6           7        3.666667            2    192   14   \n",
       "2        6       6           7        3.500000            2    192   13   \n",
       "3        6       6           7        3.666667            2    192   14   \n",
       "4        4       3           5        4.333333        local  local   15   \n",
       "\n",
       "   subdomain  Target Attack  \n",
       "0          1              1  \n",
       "1          1              1  \n",
       "2          1              0  \n",
       "3          1              1  \n",
       "4          1              1  "
      ]
     },
     "execution_count": 256,
     "metadata": {},
     "output_type": "execute_result"
    }
   ],
   "source": [
    "data =pd.read_csv('Static_dataset.csv')\n",
    "data.head()"
   ]
  },
  {
   "cell_type": "markdown",
   "metadata": {
    "id": "TmG4ljkYWPNl"
   },
   "source": [
    "# Data Analysis"
   ]
  },
  {
   "cell_type": "markdown",
   "metadata": {
    "id": "wVXFVhwjOc7Y"
   },
   "source": [
    "##checking for data imbalance"
   ]
  },
  {
   "cell_type": "code",
   "execution_count": 257,
   "metadata": {
    "colab": {
     "base_uri": "https://localhost:8080/",
     "height": 447
    },
    "id": "eXRWwcmTFIh7",
    "outputId": "01d0f6c0-2fe8-40a1-91ed-bd02705e42cf"
   },
   "outputs": [
    {
     "data": {
      "image/png": "[encoded data removed]",
      "text/plain": [
       "<Figure size 432x288 with 1 Axes>"
      ]
     },
     "metadata": {
      "needs_background": "light"
     },
     "output_type": "display_data"
    }
   ],
   "source": [
    "import matplotlib.pyplot as plt\n",
    "# Check for class balance\n",
    "data['Target Attack'].value_counts().plot(kind='bar')\n",
    "plt.title(\"Class Distribution\")\n",
    "plt.show()\n",
    "\n"
   ]
  },
  {
   "cell_type": "markdown",
   "metadata": {
    "id": "D6h_6bC4Sk32"
   },
   "source": [
    "as we can see that the class 1  that we interested in is look more than the class 0 from that we can say that our data is balanced"
   ]
  },
  {
   "cell_type": "markdown",
   "metadata": {
    "id": "-VpEQdvRUAMe"
   },
   "source": [
    "#Check Distribution Of Numerical Features"
   ]
  },
  {
   "cell_type": "code",
   "execution_count": 258,
   "metadata": {
    "colab": {
     "base_uri": "https://localhost:8080/",
     "height": 1000
    },
    "id": "7dS0VNoSUEjv",
    "outputId": "9048b629-fdd3-4038-e885-2558a4dbe5fe"
   },
   "outputs": [
    {
     "data": {
      "image/png": "[encoded data removed]",
      "text/plain": [
       "<Figure size 1080x1440 with 12 Axes>"
      ]
     },
     "metadata": {
      "needs_background": "light"
     },
     "output_type": "display_data"
    }
   ],
   "source": [
    "import matplotlib.pyplot as plt\n",
    "\n",
    "# List of features to plot\n",
    "features = [\n",
    "    \"FQDN_count\",\"subdomain_length\",\"upper\",\"lower\",\"numeric\",\"entropy\",\"special\",\"labels\",\"labels_max\",\"labels_average\",\"len\",\"subdomain\",\n",
    "]\n",
    "\n",
    "# Set up subplots\n",
    "num_rows = len(features) // 3 + 1  # Number of rows in the subplot grid\n",
    "fig, axes = plt.subplots(num_rows, 3, figsize=(15, 20))\n",
    "\n",
    "# Flatten the axes array to make it easier to iterate\n",
    "axes = axes.flatten()\n",
    "\n",
    "# Plot histograms for each feature\n",
    "for i, feature in enumerate(features):\n",
    "    ax = axes[i]\n",
    "    ax.hist(data[feature], bins=20, alpha=0.7)\n",
    "    ax.set_title(feature)\n",
    "    ax.set_xlabel(\"Value\")\n",
    "    ax.set_ylabel(\"Frequency\")\n",
    "\n",
    "# Remove any remaining empty subplots\n",
    "for i in range(len(features), len(axes)):\n",
    "    fig.delaxes(axes[i])\n",
    "\n",
    "plt.tight_layout()\n",
    "plt.show()\n"
   ]
  },
  {
   "cell_type": "markdown",
   "metadata": {
    "id": "4LXphMxDTy-G"
   },
   "source": [
    "#Feature engineering and data cleaning"
   ]
  },
  {
   "cell_type": "code",
   "execution_count": 259,
   "metadata": {
    "colab": {
     "base_uri": "https://localhost:8080/"
    },
    "id": "DEI4U46nFIdq",
    "outputId": "c6a707de-5085-494e-dbc0-c473449c3274"
   },
   "outputs": [
    {
     "name": "stdout",
     "output_type": "stream",
     "text": [
      "<class 'pandas.core.frame.DataFrame'>\n",
      "RangeIndex: 268074 entries, 0 to 268073\n",
      "Data columns (total 16 columns):\n",
      " #   Column            Non-Null Count   Dtype  \n",
      "---  ------            --------------   -----  \n",
      " 0   timestamp         268074 non-null  object \n",
      " 1   FQDN_count        268074 non-null  int64  \n",
      " 2   subdomain_length  268074 non-null  int64  \n",
      " 3   upper             268074 non-null  int64  \n",
      " 4   lower             268074 non-null  int64  \n",
      " 5   numeric           268074 non-null  int64  \n",
      " 6   entropy           268074 non-null  float64\n",
      " 7   special           268074 non-null  int64  \n",
      " 8   labels            268074 non-null  int64  \n",
      " 9   labels_max        268074 non-null  int64  \n",
      " 10  labels_average    268074 non-null  float64\n",
      " 11  longest_word      268066 non-null  object \n",
      " 12  sld               268074 non-null  object \n",
      " 13  len               268074 non-null  int64  \n",
      " 14  subdomain         268074 non-null  int64  \n",
      " 15  Target Attack     268074 non-null  int64  \n",
      "dtypes: float64(2), int64(11), object(3)\n",
      "memory usage: 32.7+ MB\n"
     ]
    }
   ],
   "source": [
    "data.info()"
   ]
  },
  {
   "cell_type": "code",
   "execution_count": 260,
   "metadata": {
    "colab": {
     "base_uri": "https://localhost:8080/",
     "height": 300
    },
    "id": "TZZy0GjtFIgE",
    "outputId": "95a16bbc-0c2e-4269-b074-edede3f92185"
   },
   "outputs": [
    {
     "data": {
      "text/html": [
       "<div>\n",
       "<style scoped>\n",
       "    .dataframe tbody tr th:only-of-type {\n",
       "        vertical-align: middle;\n",
       "    }\n",
       "\n",
       "    .dataframe tbody tr th {\n",
       "        vertical-align: top;\n",
       "    }\n",
       "\n",
       "    .dataframe thead th {\n",
       "        text-align: right;\n",
       "    }\n",
       "</style>\n",
       "<table border=\"1\" class=\"dataframe\">\n",
       "  <thead>\n",
       "    <tr style=\"text-align: right;\">\n",
       "      <th></th>\n",
       "      <th>FQDN_count</th>\n",
       "      <th>subdomain_length</th>\n",
       "      <th>upper</th>\n",
       "      <th>lower</th>\n",
       "      <th>numeric</th>\n",
       "      <th>entropy</th>\n",
       "      <th>special</th>\n",
       "      <th>labels</th>\n",
       "      <th>labels_max</th>\n",
       "      <th>labels_average</th>\n",
       "      <th>len</th>\n",
       "      <th>subdomain</th>\n",
       "      <th>Target Attack</th>\n",
       "    </tr>\n",
       "  </thead>\n",
       "  <tbody>\n",
       "    <tr>\n",
       "      <th>count</th>\n",
       "      <td>268074.000000</td>\n",
       "      <td>268074.000000</td>\n",
       "      <td>268074.000000</td>\n",
       "      <td>268074.000000</td>\n",
       "      <td>268074.000000</td>\n",
       "      <td>268074.000000</td>\n",
       "      <td>268074.000000</td>\n",
       "      <td>268074.000000</td>\n",
       "      <td>268074.000000</td>\n",
       "      <td>268074.000000</td>\n",
       "      <td>268074.000000</td>\n",
       "      <td>268074.000000</td>\n",
       "      <td>268074.000000</td>\n",
       "    </tr>\n",
       "    <tr>\n",
       "      <th>mean</th>\n",
       "      <td>22.286596</td>\n",
       "      <td>6.059021</td>\n",
       "      <td>0.845420</td>\n",
       "      <td>10.410014</td>\n",
       "      <td>6.497586</td>\n",
       "      <td>2.485735</td>\n",
       "      <td>4.533577</td>\n",
       "      <td>4.788823</td>\n",
       "      <td>8.252233</td>\n",
       "      <td>4.802239</td>\n",
       "      <td>12.576714</td>\n",
       "      <td>0.753497</td>\n",
       "      <td>0.549024</td>\n",
       "    </tr>\n",
       "    <tr>\n",
       "      <th>std</th>\n",
       "      <td>6.001205</td>\n",
       "      <td>3.899505</td>\n",
       "      <td>4.941929</td>\n",
       "      <td>3.207725</td>\n",
       "      <td>4.499866</td>\n",
       "      <td>0.407709</td>\n",
       "      <td>2.187683</td>\n",
       "      <td>1.803256</td>\n",
       "      <td>4.415355</td>\n",
       "      <td>4.573066</td>\n",
       "      <td>4.177828</td>\n",
       "      <td>0.430975</td>\n",
       "      <td>0.497592</td>\n",
       "    </tr>\n",
       "    <tr>\n",
       "      <th>min</th>\n",
       "      <td>2.000000</td>\n",
       "      <td>0.000000</td>\n",
       "      <td>0.000000</td>\n",
       "      <td>0.000000</td>\n",
       "      <td>0.000000</td>\n",
       "      <td>0.219195</td>\n",
       "      <td>0.000000</td>\n",
       "      <td>1.000000</td>\n",
       "      <td>2.000000</td>\n",
       "      <td>2.000000</td>\n",
       "      <td>2.000000</td>\n",
       "      <td>0.000000</td>\n",
       "      <td>0.000000</td>\n",
       "    </tr>\n",
       "    <tr>\n",
       "      <th>25%</th>\n",
       "      <td>18.000000</td>\n",
       "      <td>3.000000</td>\n",
       "      <td>0.000000</td>\n",
       "      <td>10.000000</td>\n",
       "      <td>0.000000</td>\n",
       "      <td>2.054029</td>\n",
       "      <td>2.000000</td>\n",
       "      <td>3.000000</td>\n",
       "      <td>7.000000</td>\n",
       "      <td>3.166667</td>\n",
       "      <td>11.000000</td>\n",
       "      <td>1.000000</td>\n",
       "      <td>0.000000</td>\n",
       "    </tr>\n",
       "    <tr>\n",
       "      <th>50%</th>\n",
       "      <td>24.000000</td>\n",
       "      <td>7.000000</td>\n",
       "      <td>0.000000</td>\n",
       "      <td>10.000000</td>\n",
       "      <td>8.000000</td>\n",
       "      <td>2.570417</td>\n",
       "      <td>6.000000</td>\n",
       "      <td>6.000000</td>\n",
       "      <td>7.000000</td>\n",
       "      <td>3.666667</td>\n",
       "      <td>12.000000</td>\n",
       "      <td>1.000000</td>\n",
       "      <td>1.000000</td>\n",
       "    </tr>\n",
       "    <tr>\n",
       "      <th>75%</th>\n",
       "      <td>27.000000</td>\n",
       "      <td>10.000000</td>\n",
       "      <td>0.000000</td>\n",
       "      <td>10.000000</td>\n",
       "      <td>10.000000</td>\n",
       "      <td>2.767195</td>\n",
       "      <td>6.000000</td>\n",
       "      <td>6.000000</td>\n",
       "      <td>7.000000</td>\n",
       "      <td>4.000000</td>\n",
       "      <td>14.000000</td>\n",
       "      <td>1.000000</td>\n",
       "      <td>1.000000</td>\n",
       "    </tr>\n",
       "    <tr>\n",
       "      <th>max</th>\n",
       "      <td>36.000000</td>\n",
       "      <td>23.000000</td>\n",
       "      <td>32.000000</td>\n",
       "      <td>34.000000</td>\n",
       "      <td>12.000000</td>\n",
       "      <td>4.216847</td>\n",
       "      <td>7.000000</td>\n",
       "      <td>7.000000</td>\n",
       "      <td>32.000000</td>\n",
       "      <td>32.000000</td>\n",
       "      <td>33.000000</td>\n",
       "      <td>1.000000</td>\n",
       "      <td>1.000000</td>\n",
       "    </tr>\n",
       "  </tbody>\n",
       "</table>\n",
       "</div>"
      ],
      "text/plain": [
       "          FQDN_count  subdomain_length          upper          lower  \\\n",
       "count  268074.000000     268074.000000  268074.000000  268074.000000   \n",
       "mean       22.286596          6.059021       0.845420      10.410014   \n",
       "std         6.001205          3.899505       4.941929       3.207725   \n",
       "min         2.000000          0.000000       0.000000       0.000000   \n",
       "25%        18.000000          3.000000       0.000000      10.000000   \n",
       "50%        24.000000          7.000000       0.000000      10.000000   \n",
       "75%        27.000000         10.000000       0.000000      10.000000   \n",
       "max        36.000000         23.000000      32.000000      34.000000   \n",
       "\n",
       "             numeric        entropy        special         labels  \\\n",
       "count  268074.000000  268074.000000  268074.000000  268074.000000   \n",
       "mean        6.497586       2.485735       4.533577       4.788823   \n",
       "std         4.499866       0.407709       2.187683       1.803256   \n",
       "min         0.000000       0.219195       0.000000       1.000000   \n",
       "25%         0.000000       2.054029       2.000000       3.000000   \n",
       "50%         8.000000       2.570417       6.000000       6.000000   \n",
       "75%        10.000000       2.767195       6.000000       6.000000   \n",
       "max        12.000000       4.216847       7.000000       7.000000   \n",
       "\n",
       "          labels_max  labels_average            len      subdomain  \\\n",
       "count  268074.000000   268074.000000  268074.000000  268074.000000   \n",
       "mean        8.252233        4.802239      12.576714       0.753497   \n",
       "std         4.415355        4.573066       4.177828       0.430975   \n",
       "min         2.000000        2.000000       2.000000       0.000000   \n",
       "25%         7.000000        3.166667      11.000000       1.000000   \n",
       "50%         7.000000        3.666667      12.000000       1.000000   \n",
       "75%         7.000000        4.000000      14.000000       1.000000   \n",
       "max        32.000000       32.000000      33.000000       1.000000   \n",
       "\n",
       "       Target Attack  \n",
       "count  268074.000000  \n",
       "mean        0.549024  \n",
       "std         0.497592  \n",
       "min         0.000000  \n",
       "25%         0.000000  \n",
       "50%         1.000000  \n",
       "75%         1.000000  \n",
       "max         1.000000  "
      ]
     },
     "execution_count": 260,
     "metadata": {},
     "output_type": "execute_result"
    }
   ],
   "source": [
    "data.describe()"
   ]
  },
  {
   "cell_type": "code",
   "execution_count": 261,
   "metadata": {
    "colab": {
     "base_uri": "https://localhost:8080/"
    },
    "id": "SutfpAMjLEYp",
    "outputId": "fd2f3ac6-b3f8-479b-e197-329854c7c61a"
   },
   "outputs": [
    {
     "data": {
      "text/plain": [
       "timestamp           0\n",
       "FQDN_count          0\n",
       "subdomain_length    0\n",
       "upper               0\n",
       "lower               0\n",
       "numeric             0\n",
       "entropy             0\n",
       "special             0\n",
       "labels              0\n",
       "labels_max          0\n",
       "labels_average      0\n",
       "longest_word        8\n",
       "sld                 0\n",
       "len                 0\n",
       "subdomain           0\n",
       "Target Attack       0\n",
       "dtype: int64"
      ]
     },
     "execution_count": 261,
     "metadata": {},
     "output_type": "execute_result"
    }
   ],
   "source": [
    "data.isnull().sum()"
   ]
  },
  {
   "cell_type": "code",
   "execution_count": 262,
   "metadata": {},
   "outputs": [
    {
     "name": "stdout",
     "output_type": "stream",
     "text": [
      "Duplicate Rows:\n",
      "       timestamp  FQDN_count  subdomain_length  upper  lower  numeric  \\\n",
      "723      24:39.5          24                 7      0     10        8   \n",
      "1150     13:56.4          32                 0     32      0        0   \n",
      "1334     52:47.6          26                 9      0     10       10   \n",
      "1375     13:39.3          24                 7      0     10        8   \n",
      "1399     21:06.8          24                 7      0     10        8   \n",
      "...          ...         ...               ...    ...    ...      ...   \n",
      "268065   29:15.9          13                 0      0     12        0   \n",
      "268067   55:44.8          24                 7      0     10        8   \n",
      "268069   33:51.5          18                 3      0     16        0   \n",
      "268072   24:25.1          16                 0      0     14        0   \n",
      "268073   20:56.1          27                10      0     10       11   \n",
      "\n",
      "         entropy  special  labels  labels_max  labels_average longest_word  \\\n",
      "723     2.054029        6       6           7        3.166667            4   \n",
      "1150    2.735132        0       1          32       32.000000            N   \n",
      "1334    2.742338        6       6           7        3.500000            2   \n",
      "1375    2.054029        6       6           7        3.166667            4   \n",
      "1399    2.054029        6       6           7        3.166667            4   \n",
      "...          ...      ...     ...         ...             ...          ...   \n",
      "268065  2.189735        1       2           9        6.000000        speed   \n",
      "268067  2.054029        6       6           7        3.166667            4   \n",
      "268069  2.338623        2       3          10        5.333333         alma   \n",
      "268072  3.249687        2       2          13        7.500000        radio   \n",
      "268073  2.570417        6       6           7        3.666667            2   \n",
      "\n",
      "                                     sld  len  subdomain  Target Attack  \n",
      "723                                  224   11          1              1  \n",
      "1150    FHEPFCELEHFCEPFFFACACACACACACABN   33          0              1  \n",
      "1334                                 192   13          1              1  \n",
      "1375                                 224   11          1              0  \n",
      "1399                                 224   11          1              1  \n",
      "...                                  ...  ...        ...            ...  \n",
      "268065                         speedweek   10          0              0  \n",
      "268067                               224   11          1              1  \n",
      "268069                        almaalomah   14          1              0  \n",
      "268072                     radio-vintage   14          0              0  \n",
      "268073                               192   14          1              1  \n",
      "\n",
      "[91803 rows x 16 columns]\n"
     ]
    }
   ],
   "source": [
    "# Check for duplicates\n",
    "duplicate_rows = data[data.duplicated()]\n",
    "print(\"Duplicate Rows:\")\n",
    "print(duplicate_rows)"
   ]
  },
  {
   "cell_type": "code",
   "execution_count": 263,
   "metadata": {},
   "outputs": [
    {
     "name": "stdout",
     "output_type": "stream",
     "text": [
      "  timestamp  FQDN_count  subdomain_length  upper  lower  numeric   entropy  \\\n",
      "0   56:19.8          27                10      0     10       11  2.570417   \n",
      "1   07:23.9          27                10      0     10       11  2.767195   \n",
      "2   23:15.1          26                 9      0     10       10  2.742338   \n",
      "3   04:51.9          27                10      0     10       11  2.570417   \n",
      "4   12:44.0          15                 9      0     11        0  2.929439   \n",
      "\n",
      "   special  labels  labels_max  labels_average longest_word    sld  len  \\\n",
      "0        6       6           7        3.666667            2    192   14   \n",
      "1        6       6           7        3.666667            2    192   14   \n",
      "2        6       6           7        3.500000            2    192   13   \n",
      "3        6       6           7        3.666667            2    192   14   \n",
      "4        4       3           5        4.333333        local  local   15   \n",
      "\n",
      "   subdomain  Target Attack  \n",
      "0          1              1  \n",
      "1          1              1  \n",
      "2          1              0  \n",
      "3          1              1  \n",
      "4          1              1  \n"
     ]
    }
   ],
   "source": [
    "# Drop duplicate rows from the DataFrame\n",
    "data = data.drop_duplicates()\n",
    "\n",
    "# Display the first few rows after dropping duplicates\n",
    "print(data.head())"
   ]
  },
  {
   "cell_type": "code",
   "execution_count": 264,
   "metadata": {
    "id": "9rCb8oVa4CwH"
   },
   "outputs": [],
   "source": [
    "# Drop null values in place\n",
    "data.dropna(inplace=True)"
   ]
  },
  {
   "cell_type": "code",
   "execution_count": 265,
   "metadata": {
    "colab": {
     "base_uri": "https://localhost:8080/",
     "height": 423
    },
    "id": "2N0Qu81e1pb-",
    "outputId": "8c0c485f-896d-4074-b909-0512ead9e291"
   },
   "outputs": [
    {
     "data": {
      "text/html": [
       "<div>\n",
       "<style scoped>\n",
       "    .dataframe tbody tr th:only-of-type {\n",
       "        vertical-align: middle;\n",
       "    }\n",
       "\n",
       "    .dataframe tbody tr th {\n",
       "        vertical-align: top;\n",
       "    }\n",
       "\n",
       "    .dataframe thead th {\n",
       "        text-align: right;\n",
       "    }\n",
       "</style>\n",
       "<table border=\"1\" class=\"dataframe\">\n",
       "  <thead>\n",
       "    <tr style=\"text-align: right;\">\n",
       "      <th></th>\n",
       "      <th>timestamp</th>\n",
       "      <th>FQDN_count</th>\n",
       "      <th>subdomain_length</th>\n",
       "      <th>upper</th>\n",
       "      <th>lower</th>\n",
       "      <th>numeric</th>\n",
       "      <th>entropy</th>\n",
       "      <th>special</th>\n",
       "      <th>labels</th>\n",
       "      <th>labels_max</th>\n",
       "      <th>labels_average</th>\n",
       "      <th>longest_word</th>\n",
       "      <th>sld</th>\n",
       "      <th>len</th>\n",
       "      <th>subdomain</th>\n",
       "      <th>Target Attack</th>\n",
       "    </tr>\n",
       "  </thead>\n",
       "  <tbody>\n",
       "    <tr>\n",
       "      <th>0</th>\n",
       "      <td>56:19.8</td>\n",
       "      <td>27</td>\n",
       "      <td>10</td>\n",
       "      <td>0</td>\n",
       "      <td>10</td>\n",
       "      <td>11</td>\n",
       "      <td>2.570417</td>\n",
       "      <td>6</td>\n",
       "      <td>6</td>\n",
       "      <td>7</td>\n",
       "      <td>3.666667</td>\n",
       "      <td>2</td>\n",
       "      <td>192</td>\n",
       "      <td>14</td>\n",
       "      <td>1</td>\n",
       "      <td>1</td>\n",
       "    </tr>\n",
       "    <tr>\n",
       "      <th>1</th>\n",
       "      <td>07:23.9</td>\n",
       "      <td>27</td>\n",
       "      <td>10</td>\n",
       "      <td>0</td>\n",
       "      <td>10</td>\n",
       "      <td>11</td>\n",
       "      <td>2.767195</td>\n",
       "      <td>6</td>\n",
       "      <td>6</td>\n",
       "      <td>7</td>\n",
       "      <td>3.666667</td>\n",
       "      <td>2</td>\n",
       "      <td>192</td>\n",
       "      <td>14</td>\n",
       "      <td>1</td>\n",
       "      <td>1</td>\n",
       "    </tr>\n",
       "    <tr>\n",
       "      <th>2</th>\n",
       "      <td>23:15.1</td>\n",
       "      <td>26</td>\n",
       "      <td>9</td>\n",
       "      <td>0</td>\n",
       "      <td>10</td>\n",
       "      <td>10</td>\n",
       "      <td>2.742338</td>\n",
       "      <td>6</td>\n",
       "      <td>6</td>\n",
       "      <td>7</td>\n",
       "      <td>3.500000</td>\n",
       "      <td>2</td>\n",
       "      <td>192</td>\n",
       "      <td>13</td>\n",
       "      <td>1</td>\n",
       "      <td>0</td>\n",
       "    </tr>\n",
       "    <tr>\n",
       "      <th>3</th>\n",
       "      <td>04:51.9</td>\n",
       "      <td>27</td>\n",
       "      <td>10</td>\n",
       "      <td>0</td>\n",
       "      <td>10</td>\n",
       "      <td>11</td>\n",
       "      <td>2.570417</td>\n",
       "      <td>6</td>\n",
       "      <td>6</td>\n",
       "      <td>7</td>\n",
       "      <td>3.666667</td>\n",
       "      <td>2</td>\n",
       "      <td>192</td>\n",
       "      <td>14</td>\n",
       "      <td>1</td>\n",
       "      <td>1</td>\n",
       "    </tr>\n",
       "    <tr>\n",
       "      <th>4</th>\n",
       "      <td>12:44.0</td>\n",
       "      <td>15</td>\n",
       "      <td>9</td>\n",
       "      <td>0</td>\n",
       "      <td>11</td>\n",
       "      <td>0</td>\n",
       "      <td>2.929439</td>\n",
       "      <td>4</td>\n",
       "      <td>3</td>\n",
       "      <td>5</td>\n",
       "      <td>4.333333</td>\n",
       "      <td>local</td>\n",
       "      <td>local</td>\n",
       "      <td>15</td>\n",
       "      <td>1</td>\n",
       "      <td>1</td>\n",
       "    </tr>\n",
       "    <tr>\n",
       "      <th>...</th>\n",
       "      <td>...</td>\n",
       "      <td>...</td>\n",
       "      <td>...</td>\n",
       "      <td>...</td>\n",
       "      <td>...</td>\n",
       "      <td>...</td>\n",
       "      <td>...</td>\n",
       "      <td>...</td>\n",
       "      <td>...</td>\n",
       "      <td>...</td>\n",
       "      <td>...</td>\n",
       "      <td>...</td>\n",
       "      <td>...</td>\n",
       "      <td>...</td>\n",
       "      <td>...</td>\n",
       "      <td>...</td>\n",
       "    </tr>\n",
       "    <tr>\n",
       "      <th>268064</th>\n",
       "      <td>25:24.4</td>\n",
       "      <td>24</td>\n",
       "      <td>7</td>\n",
       "      <td>0</td>\n",
       "      <td>10</td>\n",
       "      <td>8</td>\n",
       "      <td>2.054029</td>\n",
       "      <td>6</td>\n",
       "      <td>6</td>\n",
       "      <td>7</td>\n",
       "      <td>3.166667</td>\n",
       "      <td>4</td>\n",
       "      <td>224</td>\n",
       "      <td>11</td>\n",
       "      <td>1</td>\n",
       "      <td>0</td>\n",
       "    </tr>\n",
       "    <tr>\n",
       "      <th>268066</th>\n",
       "      <td>09:20.8</td>\n",
       "      <td>27</td>\n",
       "      <td>10</td>\n",
       "      <td>0</td>\n",
       "      <td>10</td>\n",
       "      <td>11</td>\n",
       "      <td>2.570417</td>\n",
       "      <td>6</td>\n",
       "      <td>6</td>\n",
       "      <td>7</td>\n",
       "      <td>3.666667</td>\n",
       "      <td>2</td>\n",
       "      <td>192</td>\n",
       "      <td>14</td>\n",
       "      <td>1</td>\n",
       "      <td>0</td>\n",
       "    </tr>\n",
       "    <tr>\n",
       "      <th>268068</th>\n",
       "      <td>21:37.5</td>\n",
       "      <td>12</td>\n",
       "      <td>5</td>\n",
       "      <td>0</td>\n",
       "      <td>10</td>\n",
       "      <td>0</td>\n",
       "      <td>2.817711</td>\n",
       "      <td>2</td>\n",
       "      <td>3</td>\n",
       "      <td>5</td>\n",
       "      <td>3.333333</td>\n",
       "      <td>gek</td>\n",
       "      <td>gek</td>\n",
       "      <td>9</td>\n",
       "      <td>1</td>\n",
       "      <td>0</td>\n",
       "    </tr>\n",
       "    <tr>\n",
       "      <th>268070</th>\n",
       "      <td>36:02.5</td>\n",
       "      <td>27</td>\n",
       "      <td>10</td>\n",
       "      <td>0</td>\n",
       "      <td>10</td>\n",
       "      <td>11</td>\n",
       "      <td>2.767195</td>\n",
       "      <td>6</td>\n",
       "      <td>6</td>\n",
       "      <td>7</td>\n",
       "      <td>3.666667</td>\n",
       "      <td>2</td>\n",
       "      <td>192</td>\n",
       "      <td>14</td>\n",
       "      <td>1</td>\n",
       "      <td>0</td>\n",
       "    </tr>\n",
       "    <tr>\n",
       "      <th>268071</th>\n",
       "      <td>37:21.5</td>\n",
       "      <td>27</td>\n",
       "      <td>10</td>\n",
       "      <td>0</td>\n",
       "      <td>10</td>\n",
       "      <td>11</td>\n",
       "      <td>2.767195</td>\n",
       "      <td>6</td>\n",
       "      <td>6</td>\n",
       "      <td>7</td>\n",
       "      <td>3.666667</td>\n",
       "      <td>2</td>\n",
       "      <td>192</td>\n",
       "      <td>14</td>\n",
       "      <td>1</td>\n",
       "      <td>1</td>\n",
       "    </tr>\n",
       "  </tbody>\n",
       "</table>\n",
       "<p>176263 rows × 16 columns</p>\n",
       "</div>"
      ],
      "text/plain": [
       "       timestamp  FQDN_count  subdomain_length  upper  lower  numeric  \\\n",
       "0        56:19.8          27                10      0     10       11   \n",
       "1        07:23.9          27                10      0     10       11   \n",
       "2        23:15.1          26                 9      0     10       10   \n",
       "3        04:51.9          27                10      0     10       11   \n",
       "4        12:44.0          15                 9      0     11        0   \n",
       "...          ...         ...               ...    ...    ...      ...   \n",
       "268064   25:24.4          24                 7      0     10        8   \n",
       "268066   09:20.8          27                10      0     10       11   \n",
       "268068   21:37.5          12                 5      0     10        0   \n",
       "268070   36:02.5          27                10      0     10       11   \n",
       "268071   37:21.5          27                10      0     10       11   \n",
       "\n",
       "         entropy  special  labels  labels_max  labels_average longest_word  \\\n",
       "0       2.570417        6       6           7        3.666667            2   \n",
       "1       2.767195        6       6           7        3.666667            2   \n",
       "2       2.742338        6       6           7        3.500000            2   \n",
       "3       2.570417        6       6           7        3.666667            2   \n",
       "4       2.929439        4       3           5        4.333333        local   \n",
       "...          ...      ...     ...         ...             ...          ...   \n",
       "268064  2.054029        6       6           7        3.166667            4   \n",
       "268066  2.570417        6       6           7        3.666667            2   \n",
       "268068  2.817711        2       3           5        3.333333          gek   \n",
       "268070  2.767195        6       6           7        3.666667            2   \n",
       "268071  2.767195        6       6           7        3.666667            2   \n",
       "\n",
       "          sld  len  subdomain  Target Attack  \n",
       "0         192   14          1              1  \n",
       "1         192   14          1              1  \n",
       "2         192   13          1              0  \n",
       "3         192   14          1              1  \n",
       "4       local   15          1              1  \n",
       "...       ...  ...        ...            ...  \n",
       "268064    224   11          1              0  \n",
       "268066    192   14          1              0  \n",
       "268068    gek    9          1              0  \n",
       "268070    192   14          1              0  \n",
       "268071    192   14          1              1  \n",
       "\n",
       "[176263 rows x 16 columns]"
      ]
     },
     "execution_count": 265,
     "metadata": {},
     "output_type": "execute_result"
    }
   ],
   "source": [
    "data"
   ]
  },
  {
   "cell_type": "code",
   "execution_count": 266,
   "metadata": {},
   "outputs": [
    {
     "data": {
      "text/plain": [
       "Index(['timestamp', 'FQDN_count', 'subdomain_length', 'upper', 'lower',\n",
       "       'numeric', 'entropy', 'special', 'labels', 'labels_max',\n",
       "       'labels_average', 'longest_word', 'sld', 'len', 'subdomain',\n",
       "       'Target Attack'],\n",
       "      dtype='object')"
      ]
     },
     "execution_count": 266,
     "metadata": {},
     "output_type": "execute_result"
    }
   ],
   "source": [
    "data.columns"
   ]
  },
  {
   "cell_type": "code",
   "execution_count": 267,
   "metadata": {
    "colab": {
     "base_uri": "https://localhost:8080/"
    },
    "id": "wGL1TqXvNKBQ",
    "outputId": "767e6ee6-3bec-4a10-fe23-9b4a855d20e7"
   },
   "outputs": [
    {
     "name": "stdout",
     "output_type": "stream",
     "text": [
      "Feature: timestamp\n",
      "Unique Values: ['56:19.8' '07:23.9' '23:15.1' ... '31:45.8' '51:38.3' '00:40.7']\n",
      "\n",
      "\n",
      "Feature: FQDN_count\n",
      "Unique Values: [27 26 15 23 24 14 18 21 10  9 25 28 20 32 17 19 12 13 16 11 22 30  4  8\n",
      "  7  2 31  6 29  5 34 36 33 35]\n",
      "\n",
      "\n",
      "Feature: subdomain_length\n",
      "Unique Values: [10  9  3  7  0  8 11 17  2 15  4  6  5 12 22 20  1 13 14 16 18 23 21 19]\n",
      "\n",
      "\n",
      "Feature: upper\n",
      "Unique Values: [ 0 32 11  2  8]\n",
      "\n",
      "\n",
      "Feature: lower\n",
      "Unique Values: [10 11 20 12 17 19  9  8 18  0 14 13 24 15 16 21 23 22 28  4  7  6  5 27\n",
      " 25 29  2 32 26  3 30 31 34 33]\n",
      "\n",
      "\n",
      "Feature: numeric\n",
      "Unique Values: [11 10  0  8  9 12  3  1  2  4  5  6  7]\n",
      "\n",
      "\n",
      "Feature: entropy\n",
      "Unique Values: [2.57041707 2.76719475 2.74233762 2.92943872 3.56808732 2.05402874\n",
      " 2.51424653 2.87911289 3.45187986 2.625      1.82080208 2.55664167\n",
      " 2.61244622 3.16997826 2.73513189 3.11954896 2.89618378 2.60845859\n",
      " 2.28939028 2.71267534 3.36992223 2.15413542 3.38270695 2.37326667\n",
      " 2.91005189 2.31424654 2.98973529 3.0523312  3.33203047 2.67452583\n",
      " 2.34903897 1.72703458 2.535401   1.85754248 2.78621563 2.95288229\n",
      " 2.59548889 3.00743542 2.78130147 3.05290903 2.53085715 3.625\n",
      " 2.95425205 2.59948329 3.31331159 3.48054576 2.03063906 2.40630422\n",
      " 2.58973529 2.875      2.06716806 2.12058993 2.96397243 2.78973528\n",
      " 3.16808732 3.46808732 3.26194435 2.96311965 3.24643122 3.34460514\n",
      " 3.69764001 3.46083132 2.375      2.80040589 3.10682957 2.78063906\n",
      " 3.25       3.03034294 3.15888445 2.67825814 2.64655974 2.74577956\n",
      " 2.20578852 3.07660833 3.07781953 3.36808731 3.34076875 1.05664167\n",
      " 2.48148046 2.389975   2.125      3.56299097 3.         0.90656497\n",
      " 3.13034294 3.39254386 3.28621563 3.37976456 1.625      2.62433761\n",
      " 2.28621563 2.81771111 3.20281953 3.375      3.32781953 2.85613136\n",
      " 2.82111528 3.25412254 3.21438341 2.28041283 3.29883056 1.875\n",
      " 3.14493783 3.38530766 2.889975   2.27626816 3.70804815 1.5\n",
      " 3.1080982  3.02349444 1.91845478 3.42449894 2.72330833 1.98973529\n",
      " 3.19610539 3.80220707 3.3133262  1.48746875 2.61954896 2.39254386\n",
      " 2.97976456 2.38973528 2.58849147 2.97908929 4.18045139 2.11954896\n",
      " 1.36165417 3.06277206 3.20804843 3.48751544 3.01244622 1.45754248\n",
      " 2.85845859 2.15104445 3.44967753 3.22965764 3.34936064 2.49373437\n",
      " 2.33862332 3.09259856 1.83487565 3.24968671 3.125      2.52439747\n",
      " 3.41579051 3.33034294 3.73600695 3.49408267 3.04059893 3.11309789\n",
      " 3.03467014 2.18973528 2.96549722 2.66277206 3.11854653 2.57586853\n",
      " 2.477217   2.32706771 3.03725304 2.73912186 3.1425162  3.44459874\n",
      " 2.23584693 1.76106944 1.78063906 3.24777936 1.         2.45288229\n",
      " 3.10278528 2.11424653 3.16048472 2.84643122 3.18771945 3.05002993\n",
      " 2.41766511 3.49381806 3.32943872 2.79610539 2.81703709 3.09673635\n",
      " 2.57976456 3.05485419 2.82672672 2.71309789 3.23034294 3.16831751\n",
      " 3.43255117 1.92882222 3.25673018 2.90584738 3.03063906 3.45830567\n",
      " 3.31341362 0.389975   2.15207892 3.53450549 2.82715139 2.60578852\n",
      " 2.96840826 2.5304232  3.40423529 3.19576618 2.86144223 1.44132029\n",
      " 3.71604028 2.70281953 2.16722079 3.35144115 3.15563906 3.78790644\n",
      " 3.59841198 2.43464532 3.2458299  3.55174041 3.05779828 2.41969076\n",
      " 2.95281953 2.22330833 3.1411415  2.09859465 3.19483147 2.85252804\n",
      " 3.61173088 3.55018028 3.77232502 3.60583169 2.68426936 2.90563906\n",
      " 2.75       3.86246875 1.7066     3.12293743 3.39167774 2.63216389\n",
      " 3.67696257 1.26344708 3.47863426 3.45281953 2.03875779 3.51649278\n",
      " 3.71120934 3.43854836 2.82781953 1.83875779 3.18224712 3.51309789\n",
      " 1.05754248 3.43034294 2.71327421 0.82080208 3.5        3.35304251\n",
      " 2.890279   3.64643122 2.80689984 1.84494583 2.93468414 2.92355903\n",
      " 3.87666091 3.46622813 3.50583169 2.49271359 3.61172973 3.11818193\n",
      " 3.62790644 3.25878856 3.30472122 3.32751544 3.71127564 3.32601659\n",
      " 3.37643562 3.4833543  3.53276959 3.44581307 3.39277343 3.79831175\n",
      " 2.74379517 2.99752212 3.56559078 3.7181897  3.72937679 1.48437778\n",
      " 2.602217   2.56212039 3.68085081 2.52943872 3.29006957 2.42042668\n",
      " 1.53063906 3.30583169 3.35885655 3.21342002 2.36889509 2.73345859\n",
      " 3.26808731 3.63123318 2.89225896 2.67055326 2.95994914 2.28079916\n",
      " 1.51424654 3.06808732 3.06305435 3.35562809 3.56003957 0.97773279\n",
      " 3.19259856 3.3878976  3.74768177 2.89939747 3.49803659 3.61418414\n",
      " 3.40865171 3.21817552 3.43771094 3.57585328 2.56328382 2.37657705\n",
      " 2.69578872 3.38289479 3.28762532 3.54790644 2.51649653 3.09959338\n",
      " 3.04937361 3.29259857 3.53034294 2.46610642 2.96365276 1.43627812\n",
      " 3.50892432 2.13471239 3.18477448 2.77439747 4.21684695 3.60329975\n",
      " 2.69545372 3.27159583 3.52945745 2.37363939 2.70614096 3.40583169\n",
      " 3.69235454 2.89632431 0.31127812 3.56751544 3.49768177 2.7852132\n",
      " 3.6439224  3.80583169 3.24768177 3.63714795 3.56356883 2.9288097\n",
      " 3.67102195 3.65254731 3.5346674  3.32534967 2.18502128 3.95567385\n",
      " 2.7667575  1.91424653 3.32685404 3.72460028 3.06288189 2.83246764\n",
      " 2.72658854 2.69939003 3.24967088 3.69580208 2.39939747 2.91801095\n",
      " 3.10583169 1.98540261 3.41857475 3.06364635 3.35771094 3.42651825\n",
      " 3.39259857 2.34644885 3.70856291 2.7420088  1.54916136 3.27806147\n",
      " 3.13080817 1.375      3.40994167 3.55478287 2.44643122 3.57578386\n",
      " 2.93034294 3.27901314 3.54427665 1.87221056 3.61246875 3.07698396\n",
      " 3.58101511 3.92137796 3.53850838 3.49514439 3.18810405 2.08951597\n",
      " 3.23473685 2.85438611 1.04776493 3.12534967 2.16466262 1.82877124\n",
      " 3.08760529 2.81116265 3.12873373 3.76787166 2.31850878 2.84727196\n",
      " 2.09749375 3.41434844 3.33560916 3.60492917 3.70583169 1.90769779\n",
      " 3.58605348 1.71424654 3.30865812 2.65385053 3.70696897 3.64751544\n",
      " 0.21919534 3.54956146 3.6426495  3.66434844 3.82730898 2.85598329\n",
      " 1.17379494 2.79259857 3.15379098 2.95253512 3.38466223 2.57781953\n",
      " 2.77263194 3.21622813 2.80754104 3.50947425 3.58639733 3.61543146\n",
      " 2.32500603 3.57810194 3.28751028 3.38790644 3.81382607 2.95485419\n",
      " 2.48705823 1.52775106 3.63289479 2.39610539 2.05664167 2.78820032\n",
      " 2.33886743 2.89259857 2.56299097 1.02832083 3.1822285  3.1849435\n",
      " 2.64939747 3.44580208 3.29956146 2.86645764 2.19576618 2.67410208\n",
      " 2.58174297 1.78973528 3.45732013 3.66808732 1.65725347 3.46158531\n",
      " 3.0191352  3.49280653 3.53983683 3.5599     3.98483133 3.63027536\n",
      " 3.23665417 3.00792606 3.69300174 3.25058589 2.72152848 3.16362937\n",
      " 2.31874559 3.0869904  2.65563906 3.21731994 3.75966841 2.86312982\n",
      " 3.5642351  3.66711312 3.51742734 2.24968671 3.535401   3.30773915\n",
      " 3.11493857 3.76626005 2.47911289 3.34994939 3.19771094 3.6633204\n",
      " 3.13332532 3.49626827 2.30503653 3.30601373 2.91537677 3.86790644\n",
      " 3.67067975 3.56732459 3.33101511 3.02534967 3.60117216 3.58439078\n",
      " 2.57437217 3.55185924 3.42943376 3.52913542 3.13150802 2.9577912\n",
      " 3.76927761 3.33810194 3.50028369 3.20279236 3.35451457 3.01359577\n",
      " 2.9717208  3.56058906 3.4399588  2.49700764 2.03117512 2.88440456\n",
      " 3.62036654 2.93198988 3.60392044 3.810817   3.78212222 3.04499742\n",
      " 3.51771094 3.37399074 3.47945008 3.18760529 2.72146357 3.23907883\n",
      " 3.2177647  3.6853685  2.90217792 3.40751544 2.37846122 3.68008935\n",
      " 3.32603535 2.64911044 3.89744517 3.99168294 3.27870502 3.59925118\n",
      " 3.48352082 3.30790644 2.743275   3.27436274 3.27325465 3.99583877\n",
      " 3.38496546 2.81244792 3.19580208 4.14332758 3.34763927 3.45731994\n",
      " 4.09375    3.60870341 3.13289479 3.51145546 3.36246875 3.73450549\n",
      " 3.38009434 3.32169337 3.30129609 4.16503594 3.49061944 3.75042281\n",
      " 3.33754241 2.16040104 3.30971898 3.24470007 3.85375191 2.73772692\n",
      " 3.83934706 3.50934257 1.40050139 3.210387   3.53194121 3.02332343\n",
      " 2.96743346 3.2307785  3.2954004  1.78621563 3.95822917 3.27190002\n",
      " 3.17549756 2.89175871 2.80789823 2.21504893 3.47429229 3.69891656\n",
      " 3.41175185 3.02402948 2.87245519 3.51965357 3.04385165 0.5\n",
      " 2.34577956 3.47659913 3.37332532 3.29731994 3.64446559 2.72822679\n",
      " 3.67349973 3.92312377 3.00435528 2.69351559 1.889975   2.98971641\n",
      " 3.51133716 3.51816466 2.83767196 3.57600924 3.83771094 3.38139884]\n",
      "\n",
      "\n",
      "Feature: special\n",
      "Unique Values: [6 4 3 2 1 0 5 7]\n",
      "\n",
      "\n",
      "Feature: labels\n",
      "Unique Values: [6 3 2 1 4 5 7]\n",
      "\n",
      "\n",
      "Feature: labels_max\n",
      "Unique Values: [ 7  5 16  6 14 17 32 11  9 15 10 21  8 13  4 19 12 20 27  3  2 18 26 23\n",
      " 22 25 24 29 30 28 31]\n",
      "\n",
      "\n",
      "Feature: labels_average\n",
      "Unique Values: [ 3.66666667  3.5         4.33333333  7.          3.16666667  4.\n",
      "  8.5        10.          4.5         3.33333333  3.83333333  9.5\n",
      " 32.          6.5         5.          9.         12.          5.5\n",
      "  3.75        4.66666667  8.          3.          7.5        11.\n",
      " 15.          6.          5.33333333  6.66666667  7.66666667  5.66666667\n",
      "  7.33333333 11.5        14.5         2.75        5.75        2.33333333\n",
      "  2.          6.33333333  2.5         2.66666667  8.33333333 10.5\n",
      "  4.75        9.66666667  4.25        3.25       10.66666667 13.5\n",
      " 17.5         8.66666667 13.          5.25       16.         12.5\n",
      "  7.75        2.25        6.25        9.33333333 10.33333333 17.\n",
      "  2.8        16.5         3.8        14.          4.8         6.75\n",
      "  5.8        11.33333333 15.5         3.6         4.2         5.4\n",
      "  3.71428571]\n",
      "\n",
      "\n",
      "Feature: longest_word\n",
      "Unique Values: ['2' 'local' 'pforzheim' ... 'match' 'pantheon' 'sizer']\n",
      "\n",
      "\n",
      "Feature: sld\n",
      "Unique Values: ['192' 'local' 'pforzheim-bisons' ... 'telia' 'boomstream' 'e2ma']\n",
      "\n",
      "\n",
      "Feature: len\n",
      "Unique Values: [14 13 15 20 11 10 18  8  6 12 17 33 16  9 22  7  5 19 21 28  3 27  4 23\n",
      " 25 26 30 24 31 29 32  2]\n",
      "\n",
      "\n",
      "Feature: subdomain\n",
      "Unique Values: [1 0]\n",
      "\n",
      "\n",
      "Feature: Target Attack\n",
      "Unique Values: [1 0]\n",
      "\n",
      "\n"
     ]
    }
   ],
   "source": [
    "for col in data.columns:\n",
    "    unique_values = data[col].unique()\n",
    "    print(f\"Feature: {col}\")\n",
    "    print(\"Unique Values:\", unique_values)\n",
    "    print(\"\\n\")\n"
   ]
  },
  {
   "cell_type": "code",
   "execution_count": 268,
   "metadata": {
    "id": "DsjzOFk-1Vic"
   },
   "outputs": [],
   "source": [
    "import pandas as pd\n",
    "def convert_non_numeric_to_mode(df, columns_to_check):\n",
    "    for column in columns_to_check:\n",
    "        # Calculate the mode for the current column\n",
    "        mode_value = df[column].mode()[0]\n",
    "\n",
    "        # Use a lambda function to replace non-numeric values with the mode value\n",
    "        df[column] = df[column].apply(lambda x: mode_value if not str(x).isnumeric() else x)\n",
    "\n",
    "    return df\n",
    "columns_to_check = ['longest_word', 'sld']\n",
    "result_df = convert_non_numeric_to_mode(data, columns_to_check)\n"
   ]
  },
  {
   "cell_type": "code",
   "execution_count": 269,
   "metadata": {},
   "outputs": [],
   "source": [
    "# import hashlib\n",
    "\n",
    "# def hash_string_to_int(string: str):\n",
    "#     string = str(string)\n",
    "#     return int(hashlib.sha256(string.encode('utf-8')).hexdigest(), 16) % 10**8\n",
    "\n",
    "# # Apply the hash_string_to_int function to the 'sld' column\n",
    "# data['sld'] = data['sld'].apply(hash_string_to_int)"
   ]
  },
  {
   "cell_type": "code",
   "execution_count": 270,
   "metadata": {},
   "outputs": [],
   "source": [
    "# # Define a function to replace non-numeric values with their length\n",
    "# def replace_non_numeric(value):\n",
    "#     if isinstance(value, str) and not value.isnumeric():\n",
    "#         return len(value)\n",
    "#     else:\n",
    "#         return value\n",
    "\n",
    "# # Apply the function to the 'longest_word' column\n",
    "# data['longest_word'] = data['longest_word'].apply(replace_non_numeric)\n",
    "\n",
    "# # Convert the column to numeric type\n",
    "# data['longest_word'] = pd.to_numeric(data['longest_word'], errors='coerce')\n",
    "\n",
    "# data['longest_word']"
   ]
  },
  {
   "cell_type": "code",
   "execution_count": 271,
   "metadata": {},
   "outputs": [
    {
     "data": {
      "text/html": [
       "<div>\n",
       "<style scoped>\n",
       "    .dataframe tbody tr th:only-of-type {\n",
       "        vertical-align: middle;\n",
       "    }\n",
       "\n",
       "    .dataframe tbody tr th {\n",
       "        vertical-align: top;\n",
       "    }\n",
       "\n",
       "    .dataframe thead th {\n",
       "        text-align: right;\n",
       "    }\n",
       "</style>\n",
       "<table border=\"1\" class=\"dataframe\">\n",
       "  <thead>\n",
       "    <tr style=\"text-align: right;\">\n",
       "      <th></th>\n",
       "      <th>timestamp</th>\n",
       "      <th>FQDN_count</th>\n",
       "      <th>subdomain_length</th>\n",
       "      <th>upper</th>\n",
       "      <th>lower</th>\n",
       "      <th>numeric</th>\n",
       "      <th>entropy</th>\n",
       "      <th>special</th>\n",
       "      <th>labels</th>\n",
       "      <th>labels_max</th>\n",
       "      <th>labels_average</th>\n",
       "      <th>longest_word</th>\n",
       "      <th>sld</th>\n",
       "      <th>len</th>\n",
       "      <th>subdomain</th>\n",
       "      <th>Target Attack</th>\n",
       "    </tr>\n",
       "  </thead>\n",
       "  <tbody>\n",
       "    <tr>\n",
       "      <th>0</th>\n",
       "      <td>56:19.8</td>\n",
       "      <td>27</td>\n",
       "      <td>10</td>\n",
       "      <td>0</td>\n",
       "      <td>10</td>\n",
       "      <td>11</td>\n",
       "      <td>2.570417</td>\n",
       "      <td>6</td>\n",
       "      <td>6</td>\n",
       "      <td>7</td>\n",
       "      <td>3.666667</td>\n",
       "      <td>2</td>\n",
       "      <td>192</td>\n",
       "      <td>14</td>\n",
       "      <td>1</td>\n",
       "      <td>1</td>\n",
       "    </tr>\n",
       "    <tr>\n",
       "      <th>1</th>\n",
       "      <td>07:23.9</td>\n",
       "      <td>27</td>\n",
       "      <td>10</td>\n",
       "      <td>0</td>\n",
       "      <td>10</td>\n",
       "      <td>11</td>\n",
       "      <td>2.767195</td>\n",
       "      <td>6</td>\n",
       "      <td>6</td>\n",
       "      <td>7</td>\n",
       "      <td>3.666667</td>\n",
       "      <td>2</td>\n",
       "      <td>192</td>\n",
       "      <td>14</td>\n",
       "      <td>1</td>\n",
       "      <td>1</td>\n",
       "    </tr>\n",
       "    <tr>\n",
       "      <th>2</th>\n",
       "      <td>23:15.1</td>\n",
       "      <td>26</td>\n",
       "      <td>9</td>\n",
       "      <td>0</td>\n",
       "      <td>10</td>\n",
       "      <td>10</td>\n",
       "      <td>2.742338</td>\n",
       "      <td>6</td>\n",
       "      <td>6</td>\n",
       "      <td>7</td>\n",
       "      <td>3.500000</td>\n",
       "      <td>2</td>\n",
       "      <td>192</td>\n",
       "      <td>13</td>\n",
       "      <td>1</td>\n",
       "      <td>0</td>\n",
       "    </tr>\n",
       "    <tr>\n",
       "      <th>3</th>\n",
       "      <td>04:51.9</td>\n",
       "      <td>27</td>\n",
       "      <td>10</td>\n",
       "      <td>0</td>\n",
       "      <td>10</td>\n",
       "      <td>11</td>\n",
       "      <td>2.570417</td>\n",
       "      <td>6</td>\n",
       "      <td>6</td>\n",
       "      <td>7</td>\n",
       "      <td>3.666667</td>\n",
       "      <td>2</td>\n",
       "      <td>192</td>\n",
       "      <td>14</td>\n",
       "      <td>1</td>\n",
       "      <td>1</td>\n",
       "    </tr>\n",
       "    <tr>\n",
       "      <th>4</th>\n",
       "      <td>12:44.0</td>\n",
       "      <td>15</td>\n",
       "      <td>9</td>\n",
       "      <td>0</td>\n",
       "      <td>11</td>\n",
       "      <td>0</td>\n",
       "      <td>2.929439</td>\n",
       "      <td>4</td>\n",
       "      <td>3</td>\n",
       "      <td>5</td>\n",
       "      <td>4.333333</td>\n",
       "      <td>2</td>\n",
       "      <td>192</td>\n",
       "      <td>15</td>\n",
       "      <td>1</td>\n",
       "      <td>1</td>\n",
       "    </tr>\n",
       "    <tr>\n",
       "      <th>...</th>\n",
       "      <td>...</td>\n",
       "      <td>...</td>\n",
       "      <td>...</td>\n",
       "      <td>...</td>\n",
       "      <td>...</td>\n",
       "      <td>...</td>\n",
       "      <td>...</td>\n",
       "      <td>...</td>\n",
       "      <td>...</td>\n",
       "      <td>...</td>\n",
       "      <td>...</td>\n",
       "      <td>...</td>\n",
       "      <td>...</td>\n",
       "      <td>...</td>\n",
       "      <td>...</td>\n",
       "      <td>...</td>\n",
       "    </tr>\n",
       "    <tr>\n",
       "      <th>268064</th>\n",
       "      <td>25:24.4</td>\n",
       "      <td>24</td>\n",
       "      <td>7</td>\n",
       "      <td>0</td>\n",
       "      <td>10</td>\n",
       "      <td>8</td>\n",
       "      <td>2.054029</td>\n",
       "      <td>6</td>\n",
       "      <td>6</td>\n",
       "      <td>7</td>\n",
       "      <td>3.166667</td>\n",
       "      <td>4</td>\n",
       "      <td>224</td>\n",
       "      <td>11</td>\n",
       "      <td>1</td>\n",
       "      <td>0</td>\n",
       "    </tr>\n",
       "    <tr>\n",
       "      <th>268066</th>\n",
       "      <td>09:20.8</td>\n",
       "      <td>27</td>\n",
       "      <td>10</td>\n",
       "      <td>0</td>\n",
       "      <td>10</td>\n",
       "      <td>11</td>\n",
       "      <td>2.570417</td>\n",
       "      <td>6</td>\n",
       "      <td>6</td>\n",
       "      <td>7</td>\n",
       "      <td>3.666667</td>\n",
       "      <td>2</td>\n",
       "      <td>192</td>\n",
       "      <td>14</td>\n",
       "      <td>1</td>\n",
       "      <td>0</td>\n",
       "    </tr>\n",
       "    <tr>\n",
       "      <th>268068</th>\n",
       "      <td>21:37.5</td>\n",
       "      <td>12</td>\n",
       "      <td>5</td>\n",
       "      <td>0</td>\n",
       "      <td>10</td>\n",
       "      <td>0</td>\n",
       "      <td>2.817711</td>\n",
       "      <td>2</td>\n",
       "      <td>3</td>\n",
       "      <td>5</td>\n",
       "      <td>3.333333</td>\n",
       "      <td>2</td>\n",
       "      <td>192</td>\n",
       "      <td>9</td>\n",
       "      <td>1</td>\n",
       "      <td>0</td>\n",
       "    </tr>\n",
       "    <tr>\n",
       "      <th>268070</th>\n",
       "      <td>36:02.5</td>\n",
       "      <td>27</td>\n",
       "      <td>10</td>\n",
       "      <td>0</td>\n",
       "      <td>10</td>\n",
       "      <td>11</td>\n",
       "      <td>2.767195</td>\n",
       "      <td>6</td>\n",
       "      <td>6</td>\n",
       "      <td>7</td>\n",
       "      <td>3.666667</td>\n",
       "      <td>2</td>\n",
       "      <td>192</td>\n",
       "      <td>14</td>\n",
       "      <td>1</td>\n",
       "      <td>0</td>\n",
       "    </tr>\n",
       "    <tr>\n",
       "      <th>268071</th>\n",
       "      <td>37:21.5</td>\n",
       "      <td>27</td>\n",
       "      <td>10</td>\n",
       "      <td>0</td>\n",
       "      <td>10</td>\n",
       "      <td>11</td>\n",
       "      <td>2.767195</td>\n",
       "      <td>6</td>\n",
       "      <td>6</td>\n",
       "      <td>7</td>\n",
       "      <td>3.666667</td>\n",
       "      <td>2</td>\n",
       "      <td>192</td>\n",
       "      <td>14</td>\n",
       "      <td>1</td>\n",
       "      <td>1</td>\n",
       "    </tr>\n",
       "  </tbody>\n",
       "</table>\n",
       "<p>176263 rows × 16 columns</p>\n",
       "</div>"
      ],
      "text/plain": [
       "       timestamp  FQDN_count  subdomain_length  upper  lower  numeric  \\\n",
       "0        56:19.8          27                10      0     10       11   \n",
       "1        07:23.9          27                10      0     10       11   \n",
       "2        23:15.1          26                 9      0     10       10   \n",
       "3        04:51.9          27                10      0     10       11   \n",
       "4        12:44.0          15                 9      0     11        0   \n",
       "...          ...         ...               ...    ...    ...      ...   \n",
       "268064   25:24.4          24                 7      0     10        8   \n",
       "268066   09:20.8          27                10      0     10       11   \n",
       "268068   21:37.5          12                 5      0     10        0   \n",
       "268070   36:02.5          27                10      0     10       11   \n",
       "268071   37:21.5          27                10      0     10       11   \n",
       "\n",
       "         entropy  special  labels  labels_max  labels_average longest_word  \\\n",
       "0       2.570417        6       6           7        3.666667            2   \n",
       "1       2.767195        6       6           7        3.666667            2   \n",
       "2       2.742338        6       6           7        3.500000            2   \n",
       "3       2.570417        6       6           7        3.666667            2   \n",
       "4       2.929439        4       3           5        4.333333            2   \n",
       "...          ...      ...     ...         ...             ...          ...   \n",
       "268064  2.054029        6       6           7        3.166667            4   \n",
       "268066  2.570417        6       6           7        3.666667            2   \n",
       "268068  2.817711        2       3           5        3.333333            2   \n",
       "268070  2.767195        6       6           7        3.666667            2   \n",
       "268071  2.767195        6       6           7        3.666667            2   \n",
       "\n",
       "        sld  len  subdomain  Target Attack  \n",
       "0       192   14          1              1  \n",
       "1       192   14          1              1  \n",
       "2       192   13          1              0  \n",
       "3       192   14          1              1  \n",
       "4       192   15          1              1  \n",
       "...     ...  ...        ...            ...  \n",
       "268064  224   11          1              0  \n",
       "268066  192   14          1              0  \n",
       "268068  192    9          1              0  \n",
       "268070  192   14          1              0  \n",
       "268071  192   14          1              1  \n",
       "\n",
       "[176263 rows x 16 columns]"
      ]
     },
     "execution_count": 271,
     "metadata": {},
     "output_type": "execute_result"
    }
   ],
   "source": [
    "result_df"
   ]
  },
  {
   "cell_type": "code",
   "execution_count": 272,
   "metadata": {
    "id": "Qn7cXnhY2Amy"
   },
   "outputs": [],
   "source": [
    "# # Drop the 'timestamp' column in-place\n",
    "data.drop('timestamp', axis=1, inplace=True)"
   ]
  },
  {
   "cell_type": "code",
   "execution_count": 273,
   "metadata": {
    "colab": {
     "base_uri": "https://localhost:8080/"
    },
    "id": "NduAXSDaFIlr",
    "outputId": "7a9094bd-8384-4ab2-d062-46e0bfe7def9"
   },
   "outputs": [
    {
     "data": {
      "text/plain": [
       "FQDN_count           -0.800315\n",
       "subdomain_length     -0.313356\n",
       "upper                 6.633687\n",
       "lower                 0.562564\n",
       "numeric              -0.304702\n",
       "entropy              -0.103133\n",
       "special              -0.566043\n",
       "labels               -0.572677\n",
       "labels_max            3.679053\n",
       "labels_average        5.206518\n",
       "longest_word          2.502320\n",
       "sld                 185.221263\n",
       "len                   2.296762\n",
       "subdomain            -0.883460\n",
       "Target Attack         0.263657\n",
       "dtype: float64"
      ]
     },
     "execution_count": 273,
     "metadata": {},
     "output_type": "execute_result"
    }
   ],
   "source": [
    "# Check for data skewness\n",
    "data.skew()"
   ]
  },
  {
   "cell_type": "markdown",
   "metadata": {
    "id": "8Q2Gc84XYssN"
   },
   "source": [
    "#Feature Filtering/Selection"
   ]
  },
  {
   "cell_type": "code",
   "execution_count": 274,
   "metadata": {
    "id": "DlYP8BhsYhgc"
   },
   "outputs": [],
   "source": [
    "import pandas as pd\n",
    "from sklearn.model_selection import train_test_split\n",
    "\n",
    "x = data.drop(columns=[\"Target Attack\"])\n",
    "y = data[\"Target Attack\"]\n",
    "\n",
    "\n"
   ]
  },
  {
   "cell_type": "code",
   "execution_count": 275,
   "metadata": {
    "id": "Io3BMHCFoT9f"
   },
   "outputs": [],
   "source": [
    "X_train, X_test, y_train, y_test = train_test_split(x, y, test_size=0.2, random_state=42)"
   ]
  },
  {
   "cell_type": "code",
   "execution_count": 276,
   "metadata": {
    "colab": {
     "base_uri": "https://localhost:8080/",
     "height": 423
    },
    "id": "jIWSxOi_4x3g",
    "outputId": "1c4fed60-e8b0-46ae-ed4b-7fc6328efbb9"
   },
   "outputs": [
    {
     "data": {
      "text/html": [
       "<div>\n",
       "<style scoped>\n",
       "    .dataframe tbody tr th:only-of-type {\n",
       "        vertical-align: middle;\n",
       "    }\n",
       "\n",
       "    .dataframe tbody tr th {\n",
       "        vertical-align: top;\n",
       "    }\n",
       "\n",
       "    .dataframe thead th {\n",
       "        text-align: right;\n",
       "    }\n",
       "</style>\n",
       "<table border=\"1\" class=\"dataframe\">\n",
       "  <thead>\n",
       "    <tr style=\"text-align: right;\">\n",
       "      <th></th>\n",
       "      <th>FQDN_count</th>\n",
       "      <th>subdomain_length</th>\n",
       "      <th>upper</th>\n",
       "      <th>lower</th>\n",
       "      <th>numeric</th>\n",
       "      <th>entropy</th>\n",
       "      <th>special</th>\n",
       "      <th>labels</th>\n",
       "      <th>labels_max</th>\n",
       "      <th>labels_average</th>\n",
       "      <th>longest_word</th>\n",
       "      <th>sld</th>\n",
       "      <th>len</th>\n",
       "      <th>subdomain</th>\n",
       "    </tr>\n",
       "  </thead>\n",
       "  <tbody>\n",
       "    <tr>\n",
       "      <th>129540</th>\n",
       "      <td>24</td>\n",
       "      <td>7</td>\n",
       "      <td>0</td>\n",
       "      <td>10</td>\n",
       "      <td>8</td>\n",
       "      <td>2.054029</td>\n",
       "      <td>6</td>\n",
       "      <td>6</td>\n",
       "      <td>7</td>\n",
       "      <td>3.166667</td>\n",
       "      <td>4</td>\n",
       "      <td>224</td>\n",
       "      <td>11</td>\n",
       "      <td>1</td>\n",
       "    </tr>\n",
       "    <tr>\n",
       "      <th>256382</th>\n",
       "      <td>27</td>\n",
       "      <td>10</td>\n",
       "      <td>0</td>\n",
       "      <td>10</td>\n",
       "      <td>11</td>\n",
       "      <td>2.570417</td>\n",
       "      <td>6</td>\n",
       "      <td>6</td>\n",
       "      <td>7</td>\n",
       "      <td>3.666667</td>\n",
       "      <td>2</td>\n",
       "      <td>192</td>\n",
       "      <td>14</td>\n",
       "      <td>1</td>\n",
       "    </tr>\n",
       "    <tr>\n",
       "      <th>27987</th>\n",
       "      <td>25</td>\n",
       "      <td>8</td>\n",
       "      <td>0</td>\n",
       "      <td>10</td>\n",
       "      <td>9</td>\n",
       "      <td>2.556642</td>\n",
       "      <td>6</td>\n",
       "      <td>6</td>\n",
       "      <td>7</td>\n",
       "      <td>3.333333</td>\n",
       "      <td>2</td>\n",
       "      <td>192</td>\n",
       "      <td>12</td>\n",
       "      <td>1</td>\n",
       "    </tr>\n",
       "    <tr>\n",
       "      <th>133836</th>\n",
       "      <td>27</td>\n",
       "      <td>10</td>\n",
       "      <td>0</td>\n",
       "      <td>10</td>\n",
       "      <td>11</td>\n",
       "      <td>2.767195</td>\n",
       "      <td>6</td>\n",
       "      <td>6</td>\n",
       "      <td>7</td>\n",
       "      <td>3.666667</td>\n",
       "      <td>2</td>\n",
       "      <td>192</td>\n",
       "      <td>14</td>\n",
       "      <td>1</td>\n",
       "    </tr>\n",
       "    <tr>\n",
       "      <th>161156</th>\n",
       "      <td>27</td>\n",
       "      <td>10</td>\n",
       "      <td>0</td>\n",
       "      <td>10</td>\n",
       "      <td>11</td>\n",
       "      <td>2.570417</td>\n",
       "      <td>6</td>\n",
       "      <td>6</td>\n",
       "      <td>7</td>\n",
       "      <td>3.666667</td>\n",
       "      <td>2</td>\n",
       "      <td>192</td>\n",
       "      <td>14</td>\n",
       "      <td>1</td>\n",
       "    </tr>\n",
       "    <tr>\n",
       "      <th>...</th>\n",
       "      <td>...</td>\n",
       "      <td>...</td>\n",
       "      <td>...</td>\n",
       "      <td>...</td>\n",
       "      <td>...</td>\n",
       "      <td>...</td>\n",
       "      <td>...</td>\n",
       "      <td>...</td>\n",
       "      <td>...</td>\n",
       "      <td>...</td>\n",
       "      <td>...</td>\n",
       "      <td>...</td>\n",
       "      <td>...</td>\n",
       "      <td>...</td>\n",
       "    </tr>\n",
       "    <tr>\n",
       "      <th>156570</th>\n",
       "      <td>14</td>\n",
       "      <td>3</td>\n",
       "      <td>0</td>\n",
       "      <td>12</td>\n",
       "      <td>0</td>\n",
       "      <td>2.314247</td>\n",
       "      <td>2</td>\n",
       "      <td>3</td>\n",
       "      <td>6</td>\n",
       "      <td>4.000000</td>\n",
       "      <td>2</td>\n",
       "      <td>192</td>\n",
       "      <td>10</td>\n",
       "      <td>1</td>\n",
       "    </tr>\n",
       "    <tr>\n",
       "      <th>130166</th>\n",
       "      <td>27</td>\n",
       "      <td>10</td>\n",
       "      <td>0</td>\n",
       "      <td>10</td>\n",
       "      <td>11</td>\n",
       "      <td>2.570417</td>\n",
       "      <td>6</td>\n",
       "      <td>6</td>\n",
       "      <td>7</td>\n",
       "      <td>3.666667</td>\n",
       "      <td>2</td>\n",
       "      <td>192</td>\n",
       "      <td>14</td>\n",
       "      <td>1</td>\n",
       "    </tr>\n",
       "    <tr>\n",
       "      <th>177612</th>\n",
       "      <td>12</td>\n",
       "      <td>0</td>\n",
       "      <td>0</td>\n",
       "      <td>10</td>\n",
       "      <td>0</td>\n",
       "      <td>2.289390</td>\n",
       "      <td>2</td>\n",
       "      <td>2</td>\n",
       "      <td>8</td>\n",
       "      <td>5.500000</td>\n",
       "      <td>2</td>\n",
       "      <td>192</td>\n",
       "      <td>9</td>\n",
       "      <td>0</td>\n",
       "    </tr>\n",
       "    <tr>\n",
       "      <th>205793</th>\n",
       "      <td>25</td>\n",
       "      <td>8</td>\n",
       "      <td>0</td>\n",
       "      <td>10</td>\n",
       "      <td>9</td>\n",
       "      <td>2.556642</td>\n",
       "      <td>6</td>\n",
       "      <td>6</td>\n",
       "      <td>7</td>\n",
       "      <td>3.333333</td>\n",
       "      <td>2</td>\n",
       "      <td>192</td>\n",
       "      <td>12</td>\n",
       "      <td>1</td>\n",
       "    </tr>\n",
       "    <tr>\n",
       "      <th>160168</th>\n",
       "      <td>21</td>\n",
       "      <td>0</td>\n",
       "      <td>0</td>\n",
       "      <td>20</td>\n",
       "      <td>0</td>\n",
       "      <td>3.382707</td>\n",
       "      <td>1</td>\n",
       "      <td>2</td>\n",
       "      <td>17</td>\n",
       "      <td>10.000000</td>\n",
       "      <td>2</td>\n",
       "      <td>192</td>\n",
       "      <td>18</td>\n",
       "      <td>0</td>\n",
       "    </tr>\n",
       "  </tbody>\n",
       "</table>\n",
       "<p>141010 rows × 14 columns</p>\n",
       "</div>"
      ],
      "text/plain": [
       "        FQDN_count  subdomain_length  upper  lower  numeric   entropy  \\\n",
       "129540          24                 7      0     10        8  2.054029   \n",
       "256382          27                10      0     10       11  2.570417   \n",
       "27987           25                 8      0     10        9  2.556642   \n",
       "133836          27                10      0     10       11  2.767195   \n",
       "161156          27                10      0     10       11  2.570417   \n",
       "...            ...               ...    ...    ...      ...       ...   \n",
       "156570          14                 3      0     12        0  2.314247   \n",
       "130166          27                10      0     10       11  2.570417   \n",
       "177612          12                 0      0     10        0  2.289390   \n",
       "205793          25                 8      0     10        9  2.556642   \n",
       "160168          21                 0      0     20        0  3.382707   \n",
       "\n",
       "        special  labels  labels_max  labels_average longest_word  sld  len  \\\n",
       "129540        6       6           7        3.166667            4  224   11   \n",
       "256382        6       6           7        3.666667            2  192   14   \n",
       "27987         6       6           7        3.333333            2  192   12   \n",
       "133836        6       6           7        3.666667            2  192   14   \n",
       "161156        6       6           7        3.666667            2  192   14   \n",
       "...         ...     ...         ...             ...          ...  ...  ...   \n",
       "156570        2       3           6        4.000000            2  192   10   \n",
       "130166        6       6           7        3.666667            2  192   14   \n",
       "177612        2       2           8        5.500000            2  192    9   \n",
       "205793        6       6           7        3.333333            2  192   12   \n",
       "160168        1       2          17       10.000000            2  192   18   \n",
       "\n",
       "        subdomain  \n",
       "129540          1  \n",
       "256382          1  \n",
       "27987           1  \n",
       "133836          1  \n",
       "161156          1  \n",
       "...           ...  \n",
       "156570          1  \n",
       "130166          1  \n",
       "177612          0  \n",
       "205793          1  \n",
       "160168          0  \n",
       "\n",
       "[141010 rows x 14 columns]"
      ]
     },
     "execution_count": 276,
     "metadata": {},
     "output_type": "execute_result"
    }
   ],
   "source": [
    "X_train"
   ]
  },
  {
   "cell_type": "code",
   "execution_count": 277,
   "metadata": {},
   "outputs": [],
   "source": [
    "from sklearn.preprocessing import StandardScaler\n",
    "\n",
    "# Assuming X_train and X_test are DataFrames and scaler is already initialized\n",
    "\n",
    "# Select columns in X_train for scaling\n",
    "columns_to_scale = X_train.columns  # Get column names from X_train\n",
    "\n",
    "# Scale only the selected columns in both X_train and X_test\n",
    "X_train_scaled = X_train.copy()  # Make a copy of X_train\n",
    "X_test_scaled = X_test.copy()  # Make a copy of X_test\n",
    "\n",
    "# Apply scaling to the selected columns in both datasets\n",
    "X_train_scaled[columns_to_scale] = scaler.fit_transform(X_train[columns_to_scale])\n",
    "X_test_scaled[columns_to_scale] = scaler.transform(X_test[columns_to_scale])\n"
   ]
  },
  {
   "cell_type": "markdown",
   "metadata": {
    "id": "GiuVGWcMrK63"
   },
   "source": [
    "# logistic regression model"
   ]
  },
  {
   "cell_type": "code",
   "execution_count": 286,
   "metadata": {
    "colab": {
     "base_uri": "https://localhost:8080/"
    },
    "id": "6vstQSgiqF6V",
    "outputId": "fcce6ec6-cf3b-4ef7-97d5-f5bb4425f25a"
   },
   "outputs": [
    {
     "name": "stdout",
     "output_type": "stream",
     "text": [
      "accuracy 0.7845289762573397\n",
      "F1 Score: 79.85893832529034\n"
     ]
    }
   ],
   "source": [
    "from sklearn.metrics import accuracy_score\n",
    "from sklearn.metrics import accuracy_score, f1_score\n",
    "\n",
    "lr_model = LogisticRegression(max_iter=1000)\n",
    "lr_model.fit(X_train_scaled, y_train)\n",
    "y_pred_test = lr_model.predict(X_test_scaled)\n",
    "test_accuracy = accuracy_score(y_test , y_pred_test)\n",
    "test_accuracy\n",
    "print(\"accuracy\",test_accuracy)\n",
    "# Calculate F1 score\n",
    "f1_lr = f1_score(y_test, y_pred_test)*100\n",
    "print(\"F1 Score:\", f1_lr)"
   ]
  },
  {
   "cell_type": "code",
   "execution_count": 280,
   "metadata": {
    "colab": {
     "base_uri": "https://localhost:8080/",
     "height": 582
    },
    "id": "tPhZiWdNwKft",
    "outputId": "5a163b3f-3bf8-4f0d-db87-1f4535c02a57"
   },
   "outputs": [
    {
     "name": "stdout",
     "output_type": "stream",
     "text": [
      "Test Accuracy: 0.7845289762573397\n"
     ]
    },
    {
     "data": {
      "image/png": "[encoded data removed]",
      "text/plain": [
       "<Figure size 576x432 with 2 Axes>"
      ]
     },
     "metadata": {
      "needs_background": "light"
     },
     "output_type": "display_data"
    }
   ],
   "source": [
    "from sklearn.metrics import accuracy_score, confusion_matrix\n",
    "import matplotlib.pyplot as plt\n",
    "import seaborn as sns\n",
    "\n",
    "# Assuming lr_model is your Logistic Regression model, X_val and y_val are your validation set\n",
    "y_pred_test = lr_model.predict(X_test_scaled)\n",
    "\n",
    "# Calculate test accuracy\n",
    "test_accuracy = accuracy_score(y_test, y_pred_test)\n",
    "print(\"Test Accuracy:\", test_accuracy)\n",
    "\n",
    "# Plot confusion matrix\n",
    "cm_lr = confusion_matrix(y_test, y_pred_test)\n",
    "plt.figure(figsize=(8, 6))\n",
    "sns.heatmap(cm_lr, annot=True, fmt='d', cmap='Blues')\n",
    "plt.xlabel('Predicted')\n",
    "plt.ylabel('True')\n",
    "plt.title('Logistic Regression Confusion Matrix - testing Set')\n",
    "plt.show()\n"
   ]
  },
  {
   "cell_type": "code",
   "execution_count": 223,
   "metadata": {
    "id": "dwCuveMpwqYD"
   },
   "outputs": [],
   "source": [
    "def select_feature(X_train, y_train, X_test, y_test, FSM, model):\n",
    "    fs = FSM\n",
    "    fs.fit(X_train, y_train)\n",
    "    X_train_new = fs.transform(X_train)\n",
    "    X_test_new = fs.transform(X_test)\n",
    "    model.fit(X_train_new, y_train)\n",
    "    y_pred = model.predict(X_test_new)\n",
    "    f1 = f1_score(y_test, y_pred) * 100\n",
    "\n",
    "    feature_names = [name for selected, name in zip(fs.get_support(), X_train.columns) if selected]\n",
    "\n",
    "    return f1, feature_names"
   ]
  },
  {
   "cell_type": "code",
   "execution_count": 282,
   "metadata": {
    "id": "u-gW_i-fwtgY"
   },
   "outputs": [],
   "source": []
  },
  {
   "cell_type": "code",
   "execution_count": 225,
   "metadata": {
    "id": "ngV_yrAfwv_D"
   },
   "outputs": [],
   "source": [
    "def plot_f1score(result_dict, title):\n",
    "    sorted_f1 = sorted(result_dict.items())\n",
    "    x, y = zip(*sorted_f1)\n",
    "    plt.plot(x, y)\n",
    "    plt.title(title, fontsize=16)\n",
    "    plt.xlabel(\"Number of Features\", fontsize=16)\n",
    "    plt.ylabel(\"F1_score (%)\", fontsize=16)\n",
    "    plt.show()"
   ]
  },
  {
   "cell_type": "code",
   "execution_count": 226,
   "metadata": {
    "id": "b55pReW7wzs9"
   },
   "outputs": [],
   "source": [
    "def plot_confusion_matrix(confusion_matrix, title):\n",
    "    plt.figure(figsize=(6, 4))\n",
    "    sns.heatmap(confusion_matrix, annot=True, fmt=\"d\", cmap=\"Blues\")\n",
    "    plt.title(title)\n",
    "    plt.xlabel('Predicted label')\n",
    "    plt.ylabel('True label')\n",
    "    plt.show()"
   ]
  },
  {
   "cell_type": "code",
   "execution_count": 284,
   "metadata": {
    "id": "qp4MYgrC91mh"
   },
   "outputs": [],
   "source": [
    "import matplotlib.pyplot as plt\n",
    "\n",
    "def plot_performance_comparison(methods, accuracies, title='Performance Comparison', ylabel='F1_score', colors=None):\n",
    "    if colors is None:\n",
    "        colors = ['#FFA07A'] * len(methods)\n",
    "\n",
    "    plt.figure(figsize=(10, 6))\n",
    "    bars = plt.bar(methods, accuracies, color=colors)\n",
    "    plt.ylabel(ylabel)\n",
    "    plt.title(title)\n",
    "    plt.ylim([min(accuracies) - 0.01, max(accuracies) + 0.01])\n",
    "\n",
    "    for i, bar in enumerate(bars):\n",
    "        plt.text(bar.get_x() + bar.get_width() / 2, bar.get_height() - 0.005, f'{accuracies[i]:.4f}', ha='center',\n",
    "                 va='bottom', fontsize=10)\n",
    "\n",
    "    plt.show()"
   ]
  },
  {
   "cell_type": "markdown",
   "metadata": {
    "id": "VUgANyRa9gMN"
   },
   "source": [
    "#Logestic Regression model"
   ]
  },
  {
   "cell_type": "code",
   "execution_count": 228,
   "metadata": {
    "colab": {
     "base_uri": "https://localhost:8080/",
     "height": 428
    },
    "id": "9auYCi8k6iYf",
    "outputId": "9c1dedda-2d8f-480a-c8e3-17007216780c"
   },
   "outputs": [
    {
     "name": "stdout",
     "output_type": "stream",
     "text": [
      "F1_score 79.85893832529034\n"
     ]
    },
    {
     "data": {
      "image/png": "[encoded data removed]",
      "text/plain": [
       "<Figure size 432x288 with 2 Axes>"
      ]
     },
     "metadata": {
      "needs_background": "light"
     },
     "output_type": "display_data"
    }
   ],
   "source": [
    "\n",
    "lr = LogisticRegression(max_iter=1000)\n",
    "lr.fit(X_train_scaled, y_train)\n",
    "y_pred_test = lr.predict(X_test_scaled)\n",
    "f1_lr = f1_score(y_test , y_pred_test)*100\n",
    "print(\"F1_score\",f1_lr)\n",
    "\n",
    "cm_lr = confusion_matrix(y_test, y_pred_test)\n",
    "plot_confusion_matrix(cm_lr,\"Logistic Regression baseline\")"
   ]
  },
  {
   "cell_type": "markdown",
   "metadata": {
    "id": "0d5E2jRBsaGx"
   },
   "source": [
    "#logistic regression model with mutual information"
   ]
  },
  {
   "cell_type": "code",
   "execution_count": 229,
   "metadata": {
    "colab": {
     "base_uri": "https://localhost:8080/",
     "height": 1000
    },
    "id": "07nyO1708D81",
    "outputId": "68b574de-3095-4989-fbf3-1f6df9c1b7e8",
    "scrolled": true
   },
   "outputs": [
    {
     "name": "stderr",
     "output_type": "stream",
     "text": [
      "C:\\Users\\mm\\anaconda3\\lib\\site-packages\\sklearn\\linear_model\\_logistic.py:763: ConvergenceWarning: lbfgs failed to converge (status=1):\n",
      "STOP: TOTAL NO. of ITERATIONS REACHED LIMIT.\n",
      "\n",
      "Increase the number of iterations (max_iter) or scale the data as shown in:\n",
      "    https://scikit-learn.org/stable/modules/preprocessing.html\n",
      "Please also refer to the documentation for alternative solver options:\n",
      "    https://scikit-learn.org/stable/modules/linear_model.html#logistic-regression\n",
      "  n_iter_i = _check_optimize_result(\n",
      "C:\\Users\\mm\\anaconda3\\lib\\site-packages\\sklearn\\linear_model\\_logistic.py:763: ConvergenceWarning: lbfgs failed to converge (status=1):\n",
      "STOP: TOTAL NO. of ITERATIONS REACHED LIMIT.\n",
      "\n",
      "Increase the number of iterations (max_iter) or scale the data as shown in:\n",
      "    https://scikit-learn.org/stable/modules/preprocessing.html\n",
      "Please also refer to the documentation for alternative solver options:\n",
      "    https://scikit-learn.org/stable/modules/linear_model.html#logistic-regression\n",
      "  n_iter_i = _check_optimize_result(\n",
      "C:\\Users\\mm\\anaconda3\\lib\\site-packages\\sklearn\\linear_model\\_logistic.py:763: ConvergenceWarning: lbfgs failed to converge (status=1):\n",
      "STOP: TOTAL NO. of ITERATIONS REACHED LIMIT.\n",
      "\n",
      "Increase the number of iterations (max_iter) or scale the data as shown in:\n",
      "    https://scikit-learn.org/stable/modules/preprocessing.html\n",
      "Please also refer to the documentation for alternative solver options:\n",
      "    https://scikit-learn.org/stable/modules/linear_model.html#logistic-regression\n",
      "  n_iter_i = _check_optimize_result(\n",
      "C:\\Users\\mm\\anaconda3\\lib\\site-packages\\sklearn\\linear_model\\_logistic.py:763: ConvergenceWarning: lbfgs failed to converge (status=1):\n",
      "STOP: TOTAL NO. of ITERATIONS REACHED LIMIT.\n",
      "\n",
      "Increase the number of iterations (max_iter) or scale the data as shown in:\n",
      "    https://scikit-learn.org/stable/modules/preprocessing.html\n",
      "Please also refer to the documentation for alternative solver options:\n",
      "    https://scikit-learn.org/stable/modules/linear_model.html#logistic-regression\n",
      "  n_iter_i = _check_optimize_result(\n",
      "C:\\Users\\mm\\anaconda3\\lib\\site-packages\\sklearn\\linear_model\\_logistic.py:763: ConvergenceWarning: lbfgs failed to converge (status=1):\n",
      "STOP: TOTAL NO. of ITERATIONS REACHED LIMIT.\n",
      "\n",
      "Increase the number of iterations (max_iter) or scale the data as shown in:\n",
      "    https://scikit-learn.org/stable/modules/preprocessing.html\n",
      "Please also refer to the documentation for alternative solver options:\n",
      "    https://scikit-learn.org/stable/modules/linear_model.html#logistic-regression\n",
      "  n_iter_i = _check_optimize_result(\n"
     ]
    },
    {
     "data": {
      "image/png": "[encoded data removed]",
      "text/plain": [
       "<Figure size 432x288 with 1 Axes>"
      ]
     },
     "metadata": {
      "needs_background": "light"
     },
     "output_type": "display_data"
    },
    {
     "name": "stdout",
     "output_type": "stream",
     "text": [
      "Maximum F1 Score: 79.87376349218978\n",
      "Best number of features: 9\n",
      "Selected feature names: ['FQDN_count', 'subdomain_length', 'lower', 'numeric', 'entropy', 'special', 'labels', 'labels_max', 'labels_average']\n"
     ]
    }
   ],
   "source": [
    "f1_dict_lr_mutual = {}\n",
    "feature_dict_lr_mutual = {}\n",
    "\n",
    "lr_mutual = LogisticRegression()\n",
    "\n",
    "for nf in range(1, 13):\n",
    "    fsm2 = SelectKBest(mutual_info_classif, k=nf)\n",
    "    f1, feature_names = select_feature(X_train, y_train, X_test, y_test, fsm2, lr_mutual)\n",
    "    f1_dict_lr_mutual[nf] = f1\n",
    "    feature_dict_lr_mutual[nf] = feature_names\n",
    "\n",
    "plot_f1score(f1_dict_lr_mutual, \"Feature Selection with Information Gain Method\")\n",
    "\n",
    "f1_final_lr_mutual = max(f1_dict_lr_mutual.values())\n",
    "best_num_features_lr_mutual = max(f1_dict_lr_mutual, key=f1_dict_lr_mutual.get)\n",
    "print(\"Maximum F1 Score:\", f1_final_lr_mutual)\n",
    "print(\"Best number of features:\", best_num_features_lr_mutual)\n",
    "selected_features_lr_mutual = feature_dict_lr_mutual[best_num_features_lr_mutual]\n",
    "print(\"Selected feature names:\", selected_features_lr_mutual)"
   ]
  },
  {
   "cell_type": "markdown",
   "metadata": {
    "id": "9Tk57iloyN1q"
   },
   "source": [
    "#Logistic regression model with chi2\n"
   ]
  },
  {
   "cell_type": "code",
   "execution_count": 230,
   "metadata": {
    "colab": {
     "base_uri": "https://localhost:8080/",
     "height": 1000
    },
    "id": "R5qnaFmg8vOM",
    "outputId": "4e6cb2ca-57bb-4849-b7dd-2286c76ea228"
   },
   "outputs": [
    {
     "name": "stderr",
     "output_type": "stream",
     "text": [
      "C:\\Users\\mm\\anaconda3\\lib\\site-packages\\sklearn\\linear_model\\_logistic.py:763: ConvergenceWarning: lbfgs failed to converge (status=1):\n",
      "STOP: TOTAL NO. of ITERATIONS REACHED LIMIT.\n",
      "\n",
      "Increase the number of iterations (max_iter) or scale the data as shown in:\n",
      "    https://scikit-learn.org/stable/modules/preprocessing.html\n",
      "Please also refer to the documentation for alternative solver options:\n",
      "    https://scikit-learn.org/stable/modules/linear_model.html#logistic-regression\n",
      "  n_iter_i = _check_optimize_result(\n",
      "C:\\Users\\mm\\anaconda3\\lib\\site-packages\\sklearn\\linear_model\\_logistic.py:763: ConvergenceWarning: lbfgs failed to converge (status=1):\n",
      "STOP: TOTAL NO. of ITERATIONS REACHED LIMIT.\n",
      "\n",
      "Increase the number of iterations (max_iter) or scale the data as shown in:\n",
      "    https://scikit-learn.org/stable/modules/preprocessing.html\n",
      "Please also refer to the documentation for alternative solver options:\n",
      "    https://scikit-learn.org/stable/modules/linear_model.html#logistic-regression\n",
      "  n_iter_i = _check_optimize_result(\n",
      "C:\\Users\\mm\\anaconda3\\lib\\site-packages\\sklearn\\linear_model\\_logistic.py:763: ConvergenceWarning: lbfgs failed to converge (status=1):\n",
      "STOP: TOTAL NO. of ITERATIONS REACHED LIMIT.\n",
      "\n",
      "Increase the number of iterations (max_iter) or scale the data as shown in:\n",
      "    https://scikit-learn.org/stable/modules/preprocessing.html\n",
      "Please also refer to the documentation for alternative solver options:\n",
      "    https://scikit-learn.org/stable/modules/linear_model.html#logistic-regression\n",
      "  n_iter_i = _check_optimize_result(\n",
      "C:\\Users\\mm\\anaconda3\\lib\\site-packages\\sklearn\\linear_model\\_logistic.py:763: ConvergenceWarning: lbfgs failed to converge (status=1):\n",
      "STOP: TOTAL NO. of ITERATIONS REACHED LIMIT.\n",
      "\n",
      "Increase the number of iterations (max_iter) or scale the data as shown in:\n",
      "    https://scikit-learn.org/stable/modules/preprocessing.html\n",
      "Please also refer to the documentation for alternative solver options:\n",
      "    https://scikit-learn.org/stable/modules/linear_model.html#logistic-regression\n",
      "  n_iter_i = _check_optimize_result(\n",
      "C:\\Users\\mm\\anaconda3\\lib\\site-packages\\sklearn\\linear_model\\_logistic.py:763: ConvergenceWarning: lbfgs failed to converge (status=1):\n",
      "STOP: TOTAL NO. of ITERATIONS REACHED LIMIT.\n",
      "\n",
      "Increase the number of iterations (max_iter) or scale the data as shown in:\n",
      "    https://scikit-learn.org/stable/modules/preprocessing.html\n",
      "Please also refer to the documentation for alternative solver options:\n",
      "    https://scikit-learn.org/stable/modules/linear_model.html#logistic-regression\n",
      "  n_iter_i = _check_optimize_result(\n",
      "C:\\Users\\mm\\anaconda3\\lib\\site-packages\\sklearn\\linear_model\\_logistic.py:763: ConvergenceWarning: lbfgs failed to converge (status=1):\n",
      "STOP: TOTAL NO. of ITERATIONS REACHED LIMIT.\n",
      "\n",
      "Increase the number of iterations (max_iter) or scale the data as shown in:\n",
      "    https://scikit-learn.org/stable/modules/preprocessing.html\n",
      "Please also refer to the documentation for alternative solver options:\n",
      "    https://scikit-learn.org/stable/modules/linear_model.html#logistic-regression\n",
      "  n_iter_i = _check_optimize_result(\n"
     ]
    },
    {
     "data": {
      "image/png": "[encoded data removed]",
      "text/plain": [
       "<Figure size 432x288 with 1 Axes>"
      ]
     },
     "metadata": {
      "needs_background": "light"
     },
     "output_type": "display_data"
    },
    {
     "name": "stdout",
     "output_type": "stream",
     "text": [
      "Maximum F1 Score: 79.97460451827946\n",
      "Best number of features: 8\n",
      "Selected feature names: ['FQDN_count', 'subdomain_length', 'upper', 'lower', 'numeric', 'special', 'labels', 'sld']\n"
     ]
    }
   ],
   "source": [
    "f1_dict_lr_chi = {}\n",
    "feature_dict_lr_chi = {}\n",
    "\n",
    "lr_chi = LogisticRegression()\n",
    "\n",
    "for nf in range(1, 13):\n",
    "    fsm = SelectKBest(chi2, k=nf)\n",
    "    f1, feature_names = select_feature(X_train, y_train, X_test, y_test, fsm, lr_chi)\n",
    "    f1_dict_lr_chi[nf] = f1\n",
    "    feature_dict_lr_chi[nf] = feature_names\n",
    "\n",
    "plot_f1score(f1_dict_lr_chi, \"Feature Selection with Chi-square Method\")\n",
    "\n",
    "f1_final_lr_chi = max(f1_dict_lr_chi.values())\n",
    "best_num_features_lr_chi = max(f1_dict_lr_chi, key=f1_dict_lr_chi.get)\n",
    "print(\"Maximum F1 Score:\", f1_final_lr_chi)\n",
    "print(\"Best number of features:\", best_num_features_lr_chi)\n",
    "selected_features_lr_chi = feature_dict_lr_chi[best_num_features_lr_chi]\n",
    "print(\"Selected feature names:\", selected_features_lr_chi)"
   ]
  },
  {
   "cell_type": "markdown",
   "metadata": {
    "id": "BhAt4tN9ygJM"
   },
   "source": [
    "#Logestic regression with anova"
   ]
  },
  {
   "cell_type": "code",
   "execution_count": 231,
   "metadata": {
    "colab": {
     "base_uri": "https://localhost:8080/",
     "height": 1000
    },
    "id": "XJtBCX539Fjx",
    "outputId": "5eb1ba43-61f7-479b-b205-0f2917c93d9d"
   },
   "outputs": [
    {
     "name": "stderr",
     "output_type": "stream",
     "text": [
      "C:\\Users\\mm\\anaconda3\\lib\\site-packages\\sklearn\\linear_model\\_logistic.py:763: ConvergenceWarning: lbfgs failed to converge (status=1):\n",
      "STOP: TOTAL NO. of ITERATIONS REACHED LIMIT.\n",
      "\n",
      "Increase the number of iterations (max_iter) or scale the data as shown in:\n",
      "    https://scikit-learn.org/stable/modules/preprocessing.html\n",
      "Please also refer to the documentation for alternative solver options:\n",
      "    https://scikit-learn.org/stable/modules/linear_model.html#logistic-regression\n",
      "  n_iter_i = _check_optimize_result(\n"
     ]
    },
    {
     "data": {
      "image/png": "[encoded data removed]",
      "text/plain": [
       "<Figure size 432x288 with 1 Axes>"
      ]
     },
     "metadata": {
      "needs_background": "light"
     },
     "output_type": "display_data"
    },
    {
     "name": "stdout",
     "output_type": "stream",
     "text": [
      "Maximum F1 Score: 79.87376349218978\n",
      "Best number of features: 11\n",
      "Selected feature names: ['FQDN_count', 'subdomain_length', 'upper', 'lower', 'numeric', 'entropy', 'special', 'labels', 'longest_word', 'len', 'subdomain']\n"
     ]
    }
   ],
   "source": [
    "f1_dict_logreg_anova = {}\n",
    "feature_dict_logreg_anova = {}\n",
    "\n",
    "logreg_anova = LogisticRegression()\n",
    "\n",
    "for nf in range(1, 13):\n",
    "    fsm = SelectKBest(f_classif, k=nf)  # Using ANOVA\n",
    "    f1, feature_names = select_feature(X_train_scaled, y_train, X_test_scaled, y_test, fsm, logreg_anova)\n",
    "    f1_dict_logreg_anova[nf] = f1\n",
    "    feature_dict_logreg_anova[nf] = feature_names\n",
    "\n",
    "plot_f1score(f1_dict_logreg_anova, \"Feature Selection with Logistic Regression and ANOVA Method\")\n",
    "\n",
    "f1_final_logreg_anova = max(f1_dict_logreg_anova.values())\n",
    "best_num_features_logreg_anova = max(f1_dict_logreg_anova, key=f1_dict_logreg_anova.get)\n",
    "print(\"Maximum F1 Score:\", f1_final_logreg_anova)\n",
    "print(\"Best number of features:\", best_num_features_logreg_anova)\n",
    "selected_features_logreg_anova = feature_dict_logreg_anova[best_num_features_logreg_anova]\n",
    "print(\"Selected feature names:\", selected_features_logreg_anova)"
   ]
  },
  {
   "cell_type": "code",
   "execution_count": 232,
   "metadata": {},
   "outputs": [
    {
     "data": {
      "text/html": [
       "<div>\n",
       "<style scoped>\n",
       "    .dataframe tbody tr th:only-of-type {\n",
       "        vertical-align: middle;\n",
       "    }\n",
       "\n",
       "    .dataframe tbody tr th {\n",
       "        vertical-align: top;\n",
       "    }\n",
       "\n",
       "    .dataframe thead th {\n",
       "        text-align: right;\n",
       "    }\n",
       "</style>\n",
       "<table border=\"1\" class=\"dataframe\">\n",
       "  <thead>\n",
       "    <tr style=\"text-align: right;\">\n",
       "      <th></th>\n",
       "      <th>FQDN_count</th>\n",
       "      <th>subdomain_length</th>\n",
       "      <th>upper</th>\n",
       "      <th>lower</th>\n",
       "      <th>numeric</th>\n",
       "      <th>entropy</th>\n",
       "      <th>special</th>\n",
       "      <th>labels</th>\n",
       "      <th>labels_max</th>\n",
       "      <th>labels_average</th>\n",
       "      <th>longest_word</th>\n",
       "      <th>sld</th>\n",
       "      <th>len</th>\n",
       "      <th>subdomain</th>\n",
       "    </tr>\n",
       "  </thead>\n",
       "  <tbody>\n",
       "    <tr>\n",
       "      <th>129540</th>\n",
       "      <td>0.409953</td>\n",
       "      <td>0.367629</td>\n",
       "      <td>-0.160693</td>\n",
       "      <td>-0.192041</td>\n",
       "      <td>0.465669</td>\n",
       "      <td>-1.053277</td>\n",
       "      <td>0.785105</td>\n",
       "      <td>0.785743</td>\n",
       "      <td>-0.315479</td>\n",
       "      <td>-0.403642</td>\n",
       "      <td>1.484230</td>\n",
       "      <td>0.004613</td>\n",
       "      <td>-0.340624</td>\n",
       "      <td>0.651085</td>\n",
       "    </tr>\n",
       "    <tr>\n",
       "      <th>256382</th>\n",
       "      <td>0.886386</td>\n",
       "      <td>1.107190</td>\n",
       "      <td>-0.160693</td>\n",
       "      <td>-0.192041</td>\n",
       "      <td>1.107382</td>\n",
       "      <td>0.152411</td>\n",
       "      <td>0.785105</td>\n",
       "      <td>0.785743</td>\n",
       "      <td>-0.315479</td>\n",
       "      <td>-0.284156</td>\n",
       "      <td>-0.511729</td>\n",
       "      <td>-0.010026</td>\n",
       "      <td>0.393838</td>\n",
       "      <td>0.651085</td>\n",
       "    </tr>\n",
       "    <tr>\n",
       "      <th>27987</th>\n",
       "      <td>0.568764</td>\n",
       "      <td>0.614149</td>\n",
       "      <td>-0.160693</td>\n",
       "      <td>-0.192041</td>\n",
       "      <td>0.679573</td>\n",
       "      <td>0.120247</td>\n",
       "      <td>0.785105</td>\n",
       "      <td>0.785743</td>\n",
       "      <td>-0.315479</td>\n",
       "      <td>-0.363814</td>\n",
       "      <td>-0.511729</td>\n",
       "      <td>-0.010026</td>\n",
       "      <td>-0.095803</td>\n",
       "      <td>0.651085</td>\n",
       "    </tr>\n",
       "    <tr>\n",
       "      <th>133836</th>\n",
       "      <td>0.886386</td>\n",
       "      <td>1.107190</td>\n",
       "      <td>-0.160693</td>\n",
       "      <td>-0.192041</td>\n",
       "      <td>1.107382</td>\n",
       "      <td>0.611857</td>\n",
       "      <td>0.785105</td>\n",
       "      <td>0.785743</td>\n",
       "      <td>-0.315479</td>\n",
       "      <td>-0.284156</td>\n",
       "      <td>-0.511729</td>\n",
       "      <td>-0.010026</td>\n",
       "      <td>0.393838</td>\n",
       "      <td>0.651085</td>\n",
       "    </tr>\n",
       "    <tr>\n",
       "      <th>161156</th>\n",
       "      <td>0.886386</td>\n",
       "      <td>1.107190</td>\n",
       "      <td>-0.160693</td>\n",
       "      <td>-0.192041</td>\n",
       "      <td>1.107382</td>\n",
       "      <td>0.152411</td>\n",
       "      <td>0.785105</td>\n",
       "      <td>0.785743</td>\n",
       "      <td>-0.315479</td>\n",
       "      <td>-0.284156</td>\n",
       "      <td>-0.511729</td>\n",
       "      <td>-0.010026</td>\n",
       "      <td>0.393838</td>\n",
       "      <td>0.651085</td>\n",
       "    </tr>\n",
       "    <tr>\n",
       "      <th>...</th>\n",
       "      <td>...</td>\n",
       "      <td>...</td>\n",
       "      <td>...</td>\n",
       "      <td>...</td>\n",
       "      <td>...</td>\n",
       "      <td>...</td>\n",
       "      <td>...</td>\n",
       "      <td>...</td>\n",
       "      <td>...</td>\n",
       "      <td>...</td>\n",
       "      <td>...</td>\n",
       "      <td>...</td>\n",
       "      <td>...</td>\n",
       "      <td>...</td>\n",
       "    </tr>\n",
       "    <tr>\n",
       "      <th>156570</th>\n",
       "      <td>-1.178156</td>\n",
       "      <td>-0.618453</td>\n",
       "      <td>-0.160693</td>\n",
       "      <td>0.388122</td>\n",
       "      <td>-1.245566</td>\n",
       "      <td>-0.445708</td>\n",
       "      <td>-0.982238</td>\n",
       "      <td>-0.822016</td>\n",
       "      <td>-0.552340</td>\n",
       "      <td>-0.204498</td>\n",
       "      <td>-0.511729</td>\n",
       "      <td>-0.010026</td>\n",
       "      <td>-0.585445</td>\n",
       "      <td>0.651085</td>\n",
       "    </tr>\n",
       "    <tr>\n",
       "      <th>130166</th>\n",
       "      <td>0.886386</td>\n",
       "      <td>1.107190</td>\n",
       "      <td>-0.160693</td>\n",
       "      <td>-0.192041</td>\n",
       "      <td>1.107382</td>\n",
       "      <td>0.152411</td>\n",
       "      <td>0.785105</td>\n",
       "      <td>0.785743</td>\n",
       "      <td>-0.315479</td>\n",
       "      <td>-0.284156</td>\n",
       "      <td>-0.511729</td>\n",
       "      <td>-0.010026</td>\n",
       "      <td>0.393838</td>\n",
       "      <td>0.651085</td>\n",
       "    </tr>\n",
       "    <tr>\n",
       "      <th>177612</th>\n",
       "      <td>-1.495778</td>\n",
       "      <td>-1.358014</td>\n",
       "      <td>-0.160693</td>\n",
       "      <td>-0.192041</td>\n",
       "      <td>-1.245566</td>\n",
       "      <td>-0.503744</td>\n",
       "      <td>-0.982238</td>\n",
       "      <td>-1.357936</td>\n",
       "      <td>-0.078619</td>\n",
       "      <td>0.153961</td>\n",
       "      <td>-0.511729</td>\n",
       "      <td>-0.010026</td>\n",
       "      <td>-0.830266</td>\n",
       "      <td>-1.535897</td>\n",
       "    </tr>\n",
       "    <tr>\n",
       "      <th>205793</th>\n",
       "      <td>0.568764</td>\n",
       "      <td>0.614149</td>\n",
       "      <td>-0.160693</td>\n",
       "      <td>-0.192041</td>\n",
       "      <td>0.679573</td>\n",
       "      <td>0.120247</td>\n",
       "      <td>0.785105</td>\n",
       "      <td>0.785743</td>\n",
       "      <td>-0.315479</td>\n",
       "      <td>-0.363814</td>\n",
       "      <td>-0.511729</td>\n",
       "      <td>-0.010026</td>\n",
       "      <td>-0.095803</td>\n",
       "      <td>0.651085</td>\n",
       "    </tr>\n",
       "    <tr>\n",
       "      <th>160168</th>\n",
       "      <td>-0.066480</td>\n",
       "      <td>-1.358014</td>\n",
       "      <td>-0.160693</td>\n",
       "      <td>2.708771</td>\n",
       "      <td>-1.245566</td>\n",
       "      <td>2.048983</td>\n",
       "      <td>-1.424074</td>\n",
       "      <td>-1.357936</td>\n",
       "      <td>2.053127</td>\n",
       "      <td>1.229338</td>\n",
       "      <td>-0.511729</td>\n",
       "      <td>-0.010026</td>\n",
       "      <td>1.373122</td>\n",
       "      <td>-1.535897</td>\n",
       "    </tr>\n",
       "  </tbody>\n",
       "</table>\n",
       "<p>141010 rows × 14 columns</p>\n",
       "</div>"
      ],
      "text/plain": [
       "        FQDN_count  subdomain_length     upper     lower   numeric   entropy  \\\n",
       "129540    0.409953          0.367629 -0.160693 -0.192041  0.465669 -1.053277   \n",
       "256382    0.886386          1.107190 -0.160693 -0.192041  1.107382  0.152411   \n",
       "27987     0.568764          0.614149 -0.160693 -0.192041  0.679573  0.120247   \n",
       "133836    0.886386          1.107190 -0.160693 -0.192041  1.107382  0.611857   \n",
       "161156    0.886386          1.107190 -0.160693 -0.192041  1.107382  0.152411   \n",
       "...            ...               ...       ...       ...       ...       ...   \n",
       "156570   -1.178156         -0.618453 -0.160693  0.388122 -1.245566 -0.445708   \n",
       "130166    0.886386          1.107190 -0.160693 -0.192041  1.107382  0.152411   \n",
       "177612   -1.495778         -1.358014 -0.160693 -0.192041 -1.245566 -0.503744   \n",
       "205793    0.568764          0.614149 -0.160693 -0.192041  0.679573  0.120247   \n",
       "160168   -0.066480         -1.358014 -0.160693  2.708771 -1.245566  2.048983   \n",
       "\n",
       "         special    labels  labels_max  labels_average  longest_word  \\\n",
       "129540  0.785105  0.785743   -0.315479       -0.403642      1.484230   \n",
       "256382  0.785105  0.785743   -0.315479       -0.284156     -0.511729   \n",
       "27987   0.785105  0.785743   -0.315479       -0.363814     -0.511729   \n",
       "133836  0.785105  0.785743   -0.315479       -0.284156     -0.511729   \n",
       "161156  0.785105  0.785743   -0.315479       -0.284156     -0.511729   \n",
       "...          ...       ...         ...             ...           ...   \n",
       "156570 -0.982238 -0.822016   -0.552340       -0.204498     -0.511729   \n",
       "130166  0.785105  0.785743   -0.315479       -0.284156     -0.511729   \n",
       "177612 -0.982238 -1.357936   -0.078619        0.153961     -0.511729   \n",
       "205793  0.785105  0.785743   -0.315479       -0.363814     -0.511729   \n",
       "160168 -1.424074 -1.357936    2.053127        1.229338     -0.511729   \n",
       "\n",
       "             sld       len  subdomain  \n",
       "129540  0.004613 -0.340624   0.651085  \n",
       "256382 -0.010026  0.393838   0.651085  \n",
       "27987  -0.010026 -0.095803   0.651085  \n",
       "133836 -0.010026  0.393838   0.651085  \n",
       "161156 -0.010026  0.393838   0.651085  \n",
       "...          ...       ...        ...  \n",
       "156570 -0.010026 -0.585445   0.651085  \n",
       "130166 -0.010026  0.393838   0.651085  \n",
       "177612 -0.010026 -0.830266  -1.535897  \n",
       "205793 -0.010026 -0.095803   0.651085  \n",
       "160168 -0.010026  1.373122  -1.535897  \n",
       "\n",
       "[141010 rows x 14 columns]"
      ]
     },
     "execution_count": 232,
     "metadata": {},
     "output_type": "execute_result"
    }
   ],
   "source": [
    "X_train_scaled"
   ]
  },
  {
   "cell_type": "code",
   "execution_count": 287,
   "metadata": {
    "colab": {
     "base_uri": "https://localhost:8080/",
     "height": 545
    },
    "id": "i7fP67pH9OVc",
    "outputId": "97ffc18a-50b9-418f-fc48-20fa1061f8c4"
   },
   "outputs": [
    {
     "data": {
      "image/png": "[encoded data removed]",
      "text/plain": [
       "<Figure size 720x432 with 1 Axes>"
      ]
     },
     "metadata": {
      "needs_background": "light"
     },
     "output_type": "display_data"
    }
   ],
   "source": [
    "methods_lr = ['Original',  'Chi2', 'mutual-info','Anova']\n",
    "accuracies_lr = [f1_lr, f1_final_lr_chi, f1_final_lr_mutual,f1_final_logreg_anova]\n",
    "\n",
    "plot_performance_comparison(methods_lr,accuracies_lr)"
   ]
  },
  {
   "cell_type": "markdown",
   "metadata": {
    "id": "yvQW39JY6PbP"
   },
   "source": [
    "# Random Forest model(baseline)"
   ]
  },
  {
   "cell_type": "code",
   "execution_count": 234,
   "metadata": {
    "colab": {
     "base_uri": "https://localhost:8080/",
     "height": 428
    },
    "id": "b4FG80pdy4Me",
    "outputId": "e3fc8a31-6353-4c2e-9cd5-632205b61c05"
   },
   "outputs": [
    {
     "name": "stdout",
     "output_type": "stream",
     "text": [
      "F1_score: 80.15933732555993\n"
     ]
    },
    {
     "data": {
      "image/png": "[encoded data removed]",
      "text/plain": [
       "<Figure size 432x288 with 2 Axes>"
      ]
     },
     "metadata": {
      "needs_background": "light"
     },
     "output_type": "display_data"
    }
   ],
   "source": [
    "\n",
    "rf = RandomForestClassifier(n_estimators=100, random_state=42)\n",
    "rf.fit(X_train, y_train)\n",
    "y_pred = rf.predict(X_test)\n",
    "F1_score_rf = f1_score(y_test, y_pred)*100\n",
    "print(\"F1_score:\", F1_score_rf)\n",
    "\n",
    "cm_rf = confusion_matrix(y_test, y_pred)\n",
    "plot_confusion_matrix(cm_rf,\"Random Forest baseline\")"
   ]
  },
  {
   "cell_type": "markdown",
   "metadata": {
    "id": "GFDgTocs5l5R"
   },
   "source": [
    "# RandomForest with mutual information"
   ]
  },
  {
   "cell_type": "code",
   "execution_count": 235,
   "metadata": {
    "colab": {
     "base_uri": "https://localhost:8080/",
     "height": 535
    },
    "id": "4-84-OrYy4Qz",
    "outputId": "4330b9be-3003-429c-adca-26cb4be7af47"
   },
   "outputs": [
    {
     "data": {
      "image/png": "[encoded data removed]",
      "text/plain": [
       "<Figure size 432x288 with 1 Axes>"
      ]
     },
     "metadata": {
      "needs_background": "light"
     },
     "output_type": "display_data"
    },
    {
     "name": "stdout",
     "output_type": "stream",
     "text": [
      "Maximum accuracy: 80.15933732555993\n",
      "Best number of features: 7\n",
      "Selected feature names: ['FQDN_count', 'subdomain_length', 'lower', 'entropy', 'special', 'labels', 'labels_average']\n"
     ]
    }
   ],
   "source": [
    "f1_dict_rf_mutual = {}\n",
    "feature_dict_rf_mutual = {}\n",
    "\n",
    "for nf in range(1, 13):\n",
    "    fsm = SelectKBest(mutual_info_classif, k=nf)\n",
    "    acc, feature_names = select_feature(X_train, y_train, X_test, y_test, fsm, rf)\n",
    "    f1_dict_rf_mutual[nf] = acc\n",
    "    feature_dict_rf_mutual[nf] = feature_names\n",
    "\n",
    "plot_f1score(f1_dict_rf_mutual,\"Feature Selection with Information Gain Method\")\n",
    "\n",
    "mutual_final_f1_rf = max(f1_dict_rf_mutual.values())\n",
    "print(\"Maximum accuracy:\", mutual_final_f1_rf)\n",
    "best_num_features_rf = max(f1_dict_rf_mutual, key=f1_dict_rf_mutual.get)\n",
    "print(\"Best number of features:\", best_num_features_rf)\n",
    "selected_features_rf_mutual=feature_dict_rf_mutual[best_num_features_rf]\n",
    "print(\"Selected feature names:\",selected_features_rf_mutual )"
   ]
  },
  {
   "cell_type": "markdown",
   "metadata": {
    "id": "sBMrqSw35zqg"
   },
   "source": [
    "# RandomForest with chi2"
   ]
  },
  {
   "cell_type": "code",
   "execution_count": 236,
   "metadata": {
    "colab": {
     "base_uri": "https://localhost:8080/",
     "height": 535
    },
    "id": "M-TJ6r3Sy4Tw",
    "outputId": "a67f5b80-1d18-4d70-b2b1-f11c175cae9a"
   },
   "outputs": [
    {
     "data": {
      "image/png": "[encoded data removed]",
      "text/plain": [
       "<Figure size 432x288 with 1 Axes>"
      ]
     },
     "metadata": {
      "needs_background": "light"
     },
     "output_type": "display_data"
    },
    {
     "name": "stdout",
     "output_type": "stream",
     "text": [
      "Maximum F1 score: 80.15299393299921\n",
      "Best number of features: 10\n",
      "Selected feature names: ['FQDN_count', 'subdomain_length', 'upper', 'lower', 'numeric', 'special', 'labels', 'sld', 'len', 'subdomain']\n"
     ]
    }
   ],
   "source": [
    "f1_dict_rf_chi = {}\n",
    "feature_dict_rf_chi = {}\n",
    "\n",
    "rf_chi_f1 = RandomForestClassifier()\n",
    "\n",
    "for nf in range(1, 13):\n",
    "    fsm = SelectKBest(chi2, k=nf)\n",
    "    f1, feature_names = select_feature(X_train, y_train, X_test, y_test, fsm, rf_chi_f1)\n",
    "    f1_dict_rf_chi[nf] = f1\n",
    "    feature_dict_rf_chi[nf] = feature_names\n",
    "\n",
    "plot_f1score(f1_dict_rf_chi, \"Feature Selection with Chi-square Method\")\n",
    "\n",
    "chi_final_f1_rf = max(f1_dict_rf_chi.values())\n",
    "print(\"Maximum F1 score:\", chi_final_f1_rf)\n",
    "best_num_features_chi_rf_f1 = max(f1_dict_rf_chi, key=f1_dict_rf_chi.get)\n",
    "print(\"Best number of features:\", best_num_features_chi_rf_f1)\n",
    "selected_features_rf_chi_f1 = feature_dict_rf_chi[best_num_features_chi_rf_f1]\n",
    "print(\"Selected feature names:\", selected_features_rf_chi_f1)"
   ]
  },
  {
   "cell_type": "markdown",
   "metadata": {
    "id": "Z71jKKdI6AzT"
   },
   "source": [
    "#RandomForest with Anova"
   ]
  },
  {
   "cell_type": "code",
   "execution_count": 237,
   "metadata": {
    "colab": {
     "base_uri": "https://localhost:8080/",
     "height": 535
    },
    "id": "5h9I7hmJy4W7",
    "outputId": "7a5688dd-37d5-41b5-bcbf-30fd926674d7"
   },
   "outputs": [
    {
     "data": {
      "image/png": "[encoded data removed]",
      "text/plain": [
       "<Figure size 432x288 with 1 Axes>"
      ]
     },
     "metadata": {
      "needs_background": "light"
     },
     "output_type": "display_data"
    },
    {
     "name": "stdout",
     "output_type": "stream",
     "text": [
      "Maximum F1 Score: 80.15615520561315\n",
      "Best number of features: 12\n",
      "Selected feature names: ['FQDN_count', 'subdomain_length', 'upper', 'lower', 'numeric', 'entropy', 'special', 'labels', 'labels_max', 'longest_word', 'len', 'subdomain']\n"
     ]
    }
   ],
   "source": [
    "f1_dict_rf_anova = {}\n",
    "feature_dict_rf_anova = {}\n",
    "\n",
    "rf_anova = RandomForestClassifier()\n",
    "\n",
    "for nf in range(1, 13):\n",
    "    fsm = SelectKBest(f_classif, k=nf)\n",
    "    f1, feature_names = select_feature(X_train, y_train, X_test, y_test, fsm, rf_anova)\n",
    "    f1_dict_rf_anova[nf] = f1\n",
    "    feature_dict_rf_anova[nf] = feature_names\n",
    "\n",
    "plot_f1score(f1_dict_rf_anova, \"Feature Selection with ANOVA Method\")\n",
    "\n",
    "anova_final_f1_rf = max(f1_dict_rf_anova.values())\n",
    "print(\"Maximum F1 Score:\", anova_final_f1_rf)\n",
    "best_num_features_anova_rf = max(f1_dict_rf_anova, key=f1_dict_rf_anova.get)\n",
    "print(\"Best number of features:\", best_num_features_anova_rf)\n",
    "selected_features_rf_anova = feature_dict_rf_anova[best_num_features_anova_rf]\n",
    "print(\"Selected feature names:\", selected_features_rf_anova)"
   ]
  },
  {
   "cell_type": "code",
   "execution_count": 281,
   "metadata": {
    "colab": {
     "base_uri": "https://localhost:8080/",
     "height": 545
    },
    "id": "TjDoiJ9Ny4Z9",
    "outputId": "65aa61cf-0149-4fd2-ee84-d95137772d1a"
   },
   "outputs": [
    {
     "data": {
      "image/png": "[encoded data removed]",
      "text/plain": [
       "<Figure size 720x432 with 1 Axes>"
      ]
     },
     "metadata": {
      "needs_background": "light"
     },
     "output_type": "display_data"
    }
   ],
   "source": [
    "methods_rf = ['Original',  'Chi2', 'mutual-classif',\"Anova\"]\n",
    "fscore_rf = [F1_score_rf, chi_final_f1_rf, mutual_final_f1_rf,anova_final_f1_rf]\n",
    "\n",
    "plot_performance_comparison(methods_rf,fscore_rf)"
   ]
  },
  {
   "cell_type": "markdown",
   "metadata": {
    "id": "zZua5RHo_KOq"
   },
   "source": [
    "# selecting best algorithm and best features"
   ]
  },
  {
   "cell_type": "code",
   "execution_count": 289,
   "metadata": {
    "colab": {
     "base_uri": "https://localhost:8080/",
     "height": 545
    },
    "id": "bT18AC5Ly4cz",
    "outputId": "01b3637b-7d84-4300-dc33-d4830249874c"
   },
   "outputs": [
    {
     "data": {
      "image/png": "[encoded data removed]",
      "text/plain": [
       "<Figure size 576x432 with 1 Axes>"
      ]
     },
     "metadata": {
      "needs_background": "light"
     },
     "output_type": "display_data"
    }
   ],
   "source": [
    "# Create a bar plot to compare the results\n",
    "models = ['Random Forest(chi2)', 'Logistic Regression (chi2)']\n",
    "accuracies = [chi_final_f1_rf, f1_final_lr_mutual]\n",
    "\n",
    "plt.figure(figsize=(8, 6))\n",
    "plt.bar(models, accuracies, color=['lightblue', 'lightgreen'])\n",
    "plt.ylabel('F1_Score')\n",
    "plt.title('Model Performance Comparison on Test Data')\n",
    "plt.ylim([min(accuracies) - 0.01, max(accuracies) + 0.1])\n",
    "\n",
    "# Annotate the bars with their respective accuracy values\n",
    "for i, v in enumerate(accuracies):\n",
    "    plt.text(i, v, f'{v:.5f}', ha='center', va='bottom', fontsize=12)\n",
    "\n",
    "plt.show()\n"
   ]
  },
  {
   "cell_type": "code",
   "execution_count": 242,
   "metadata": {
    "id": "-6RbC5jU7Gxt"
   },
   "outputs": [],
   "source": [
    "selected_X_train=X_train[selected_features_rf_chi_f1]\n",
    "selected_X_test=X_test[selected_features_rf_chi_f1]"
   ]
  },
  {
   "cell_type": "code",
   "execution_count": 243,
   "metadata": {
    "colab": {
     "base_uri": "https://localhost:8080/"
    },
    "id": "C3vhpIPfPWn2",
    "outputId": "1d8fbb35-fc13-47b2-e83f-6529adfa3264"
   },
   "outputs": [
    {
     "data": {
      "text/plain": [
       "(141010, 10)"
      ]
     },
     "execution_count": 243,
     "metadata": {},
     "output_type": "execute_result"
    }
   ],
   "source": [
    "selected_X_train.shape"
   ]
  },
  {
   "cell_type": "code",
   "execution_count": 244,
   "metadata": {
    "colab": {
     "base_uri": "https://localhost:8080/"
    },
    "id": "XitapmudPah5",
    "outputId": "e6bfa69a-36bf-40ce-f621-eb5a6b717e70"
   },
   "outputs": [
    {
     "data": {
      "text/plain": [
       "(141010,)"
      ]
     },
     "execution_count": 244,
     "metadata": {},
     "output_type": "execute_result"
    }
   ],
   "source": [
    "y_train.shape\n"
   ]
  },
  {
   "cell_type": "code",
   "execution_count": 245,
   "metadata": {
    "colab": {
     "base_uri": "https://localhost:8080/",
     "height": 423
    },
    "id": "HQDhaO7m7G1L",
    "outputId": "a5468db6-96e6-442e-d0ed-9e078c9a748c"
   },
   "outputs": [
    {
     "data": {
      "text/html": [
       "<div>\n",
       "<style scoped>\n",
       "    .dataframe tbody tr th:only-of-type {\n",
       "        vertical-align: middle;\n",
       "    }\n",
       "\n",
       "    .dataframe tbody tr th {\n",
       "        vertical-align: top;\n",
       "    }\n",
       "\n",
       "    .dataframe thead th {\n",
       "        text-align: right;\n",
       "    }\n",
       "</style>\n",
       "<table border=\"1\" class=\"dataframe\">\n",
       "  <thead>\n",
       "    <tr style=\"text-align: right;\">\n",
       "      <th></th>\n",
       "      <th>FQDN_count</th>\n",
       "      <th>subdomain_length</th>\n",
       "      <th>upper</th>\n",
       "      <th>lower</th>\n",
       "      <th>numeric</th>\n",
       "      <th>special</th>\n",
       "      <th>labels</th>\n",
       "      <th>sld</th>\n",
       "      <th>len</th>\n",
       "      <th>subdomain</th>\n",
       "    </tr>\n",
       "  </thead>\n",
       "  <tbody>\n",
       "    <tr>\n",
       "      <th>129540</th>\n",
       "      <td>24</td>\n",
       "      <td>7</td>\n",
       "      <td>0</td>\n",
       "      <td>10</td>\n",
       "      <td>8</td>\n",
       "      <td>6</td>\n",
       "      <td>6</td>\n",
       "      <td>224</td>\n",
       "      <td>11</td>\n",
       "      <td>1</td>\n",
       "    </tr>\n",
       "    <tr>\n",
       "      <th>256382</th>\n",
       "      <td>27</td>\n",
       "      <td>10</td>\n",
       "      <td>0</td>\n",
       "      <td>10</td>\n",
       "      <td>11</td>\n",
       "      <td>6</td>\n",
       "      <td>6</td>\n",
       "      <td>192</td>\n",
       "      <td>14</td>\n",
       "      <td>1</td>\n",
       "    </tr>\n",
       "    <tr>\n",
       "      <th>27987</th>\n",
       "      <td>25</td>\n",
       "      <td>8</td>\n",
       "      <td>0</td>\n",
       "      <td>10</td>\n",
       "      <td>9</td>\n",
       "      <td>6</td>\n",
       "      <td>6</td>\n",
       "      <td>192</td>\n",
       "      <td>12</td>\n",
       "      <td>1</td>\n",
       "    </tr>\n",
       "    <tr>\n",
       "      <th>133836</th>\n",
       "      <td>27</td>\n",
       "      <td>10</td>\n",
       "      <td>0</td>\n",
       "      <td>10</td>\n",
       "      <td>11</td>\n",
       "      <td>6</td>\n",
       "      <td>6</td>\n",
       "      <td>192</td>\n",
       "      <td>14</td>\n",
       "      <td>1</td>\n",
       "    </tr>\n",
       "    <tr>\n",
       "      <th>161156</th>\n",
       "      <td>27</td>\n",
       "      <td>10</td>\n",
       "      <td>0</td>\n",
       "      <td>10</td>\n",
       "      <td>11</td>\n",
       "      <td>6</td>\n",
       "      <td>6</td>\n",
       "      <td>192</td>\n",
       "      <td>14</td>\n",
       "      <td>1</td>\n",
       "    </tr>\n",
       "    <tr>\n",
       "      <th>...</th>\n",
       "      <td>...</td>\n",
       "      <td>...</td>\n",
       "      <td>...</td>\n",
       "      <td>...</td>\n",
       "      <td>...</td>\n",
       "      <td>...</td>\n",
       "      <td>...</td>\n",
       "      <td>...</td>\n",
       "      <td>...</td>\n",
       "      <td>...</td>\n",
       "    </tr>\n",
       "    <tr>\n",
       "      <th>156570</th>\n",
       "      <td>14</td>\n",
       "      <td>3</td>\n",
       "      <td>0</td>\n",
       "      <td>12</td>\n",
       "      <td>0</td>\n",
       "      <td>2</td>\n",
       "      <td>3</td>\n",
       "      <td>192</td>\n",
       "      <td>10</td>\n",
       "      <td>1</td>\n",
       "    </tr>\n",
       "    <tr>\n",
       "      <th>130166</th>\n",
       "      <td>27</td>\n",
       "      <td>10</td>\n",
       "      <td>0</td>\n",
       "      <td>10</td>\n",
       "      <td>11</td>\n",
       "      <td>6</td>\n",
       "      <td>6</td>\n",
       "      <td>192</td>\n",
       "      <td>14</td>\n",
       "      <td>1</td>\n",
       "    </tr>\n",
       "    <tr>\n",
       "      <th>177612</th>\n",
       "      <td>12</td>\n",
       "      <td>0</td>\n",
       "      <td>0</td>\n",
       "      <td>10</td>\n",
       "      <td>0</td>\n",
       "      <td>2</td>\n",
       "      <td>2</td>\n",
       "      <td>192</td>\n",
       "      <td>9</td>\n",
       "      <td>0</td>\n",
       "    </tr>\n",
       "    <tr>\n",
       "      <th>205793</th>\n",
       "      <td>25</td>\n",
       "      <td>8</td>\n",
       "      <td>0</td>\n",
       "      <td>10</td>\n",
       "      <td>9</td>\n",
       "      <td>6</td>\n",
       "      <td>6</td>\n",
       "      <td>192</td>\n",
       "      <td>12</td>\n",
       "      <td>1</td>\n",
       "    </tr>\n",
       "    <tr>\n",
       "      <th>160168</th>\n",
       "      <td>21</td>\n",
       "      <td>0</td>\n",
       "      <td>0</td>\n",
       "      <td>20</td>\n",
       "      <td>0</td>\n",
       "      <td>1</td>\n",
       "      <td>2</td>\n",
       "      <td>192</td>\n",
       "      <td>18</td>\n",
       "      <td>0</td>\n",
       "    </tr>\n",
       "  </tbody>\n",
       "</table>\n",
       "<p>141010 rows × 10 columns</p>\n",
       "</div>"
      ],
      "text/plain": [
       "        FQDN_count  subdomain_length  upper  lower  numeric  special  labels  \\\n",
       "129540          24                 7      0     10        8        6       6   \n",
       "256382          27                10      0     10       11        6       6   \n",
       "27987           25                 8      0     10        9        6       6   \n",
       "133836          27                10      0     10       11        6       6   \n",
       "161156          27                10      0     10       11        6       6   \n",
       "...            ...               ...    ...    ...      ...      ...     ...   \n",
       "156570          14                 3      0     12        0        2       3   \n",
       "130166          27                10      0     10       11        6       6   \n",
       "177612          12                 0      0     10        0        2       2   \n",
       "205793          25                 8      0     10        9        6       6   \n",
       "160168          21                 0      0     20        0        1       2   \n",
       "\n",
       "        sld  len  subdomain  \n",
       "129540  224   11          1  \n",
       "256382  192   14          1  \n",
       "27987   192   12          1  \n",
       "133836  192   14          1  \n",
       "161156  192   14          1  \n",
       "...     ...  ...        ...  \n",
       "156570  192   10          1  \n",
       "130166  192   14          1  \n",
       "177612  192    9          0  \n",
       "205793  192   12          1  \n",
       "160168  192   18          0  \n",
       "\n",
       "[141010 rows x 10 columns]"
      ]
     },
     "execution_count": 245,
     "metadata": {},
     "output_type": "execute_result"
    }
   ],
   "source": [
    "selected_X_train"
   ]
  },
  {
   "cell_type": "code",
   "execution_count": null,
   "metadata": {
    "id": "3PviBYwg7G6W"
   },
   "outputs": [],
   "source": [
    "# scaler = MinMaxScaler()\n",
    "# X_train_normalized = scaler.fit_transform(selected_X_train)\n",
    "# X_test_normalized = scaler.transform(selected_X_test)"
   ]
  },
  {
   "cell_type": "markdown",
   "metadata": {
    "id": "AhfspxOC_iUo"
   },
   "source": [
    "# Grid search on random forest"
   ]
  },
  {
   "cell_type": "code",
   "execution_count": 246,
   "metadata": {
    "colab": {
     "base_uri": "https://localhost:8080/"
    },
    "id": "0TayF8kW7G9q",
    "outputId": "f78538b5-a99c-4d32-a0c9-d4375317e2b4"
   },
   "outputs": [
    {
     "name": "stdout",
     "output_type": "stream",
     "text": [
      "Best Parameters: {'classifier__criterion': 'gini', 'classifier__max_depth': None, 'classifier__n_estimators': 100}\n",
      "Best F1 Score: 0.8043382562861086\n"
     ]
    }
   ],
   "source": [
    "from sklearn.ensemble import RandomForestClassifier\n",
    "from sklearn.model_selection import GridSearchCV\n",
    "from sklearn.pipeline import Pipeline\n",
    "from sklearn.metrics import make_scorer, f1_score\n",
    "\n",
    "# Define the Random Forest Classifier\n",
    "rf_model = RandomForestClassifier(random_state=42)\n",
    "\n",
    "# Create a pipeline with the Random Forest model\n",
    "pipeline = Pipeline([\n",
    "    ('classifier', rf_model)\n",
    "])\n",
    "\n",
    "# Define the hyperparameters and their values to search\n",
    "param_grid = {\n",
    "    'classifier__n_estimators': [50, 100, 200],\n",
    "    'classifier__max_depth': [None, 10, 20, 30],\n",
    "    'classifier__criterion': ['gini', 'entropy'],\n",
    "}\n",
    "\n",
    "# Create the GridSearchCV object\n",
    "scorer = make_scorer(f1_score)  # Use F1 score as the metric\n",
    "grid_search = GridSearchCV(pipeline, param_grid, cv=5, scoring=scorer)\n",
    "\n",
    "# Perform the grid search\n",
    "grid_search.fit(selected_X_train, y_train)\n",
    "\n",
    "# Get the best parameters and best score\n",
    "best_params = grid_search.best_params_\n",
    "best_score = grid_search.best_score_\n",
    "\n",
    "print(\"Best Parameters:\", best_params)\n",
    "print(\"Best F1 Score:\", best_score)\n"
   ]
  },
  {
   "cell_type": "code",
   "execution_count": 247,
   "metadata": {
    "id": "PuRxf8eiNjpi"
   },
   "outputs": [],
   "source": [
    "best_hyperparameters={'classifier__criterion': 'gini', 'classifier__max_depth': None, 'classifier__n_estimators': 100}"
   ]
  },
  {
   "cell_type": "markdown",
   "metadata": {
    "id": "QYTsx75cPOoX"
   },
   "source": [
    "# Create the pipeline with feature selection"
   ]
  },
  {
   "cell_type": "code",
   "execution_count": 293,
   "metadata": {
    "colab": {
     "base_uri": "https://localhost:8080/",
     "height": 231
    },
    "id": "THY7nwU-NoIn",
    "outputId": "cfb3b016-7da2-48c3-f3ee-9be2b16719bf"
   },
   "outputs": [
    {
     "data": {
      "text/plain": [
       "Pipeline(steps=[('feature_selection',\n",
       "                 SelectKBest(score_func=<function chi2 at 0x000001E5FD7E44C0>)),\n",
       "                ('classifier', RandomForestClassifier(random_state=42))])"
      ]
     },
     "execution_count": 293,
     "metadata": {},
     "output_type": "execute_result"
    }
   ],
   "source": [
    "feature_selection = SelectKBest(chi2, k=10)\n",
    "\n",
    "rf_classifier = RandomForestClassifier(random_state=42,max_depth= None, n_estimators= 100,criterion='gini')\n",
    "\n",
    "# Create the pipeline with feature selection followed by the Random Forest classifier\n",
    "# add  minmaxscaler\n",
    "pipeline = Pipeline([\n",
    "    ('feature_selection', feature_selection),\n",
    "    ('classifier', RandomForestClassifier(random_state=42, max_depth= None, n_estimators= 100,criterion='gini'))\n",
    "])\n",
    "\n",
    "pipeline.fit(selected_X_train, y_train)\n"
   ]
  },
  {
   "cell_type": "markdown",
   "metadata": {},
   "source": [
    "# saving the model"
   ]
  },
  {
   "cell_type": "code",
   "execution_count": 250,
   "metadata": {
    "colab": {
     "base_uri": "https://localhost:8080/"
    },
    "id": "-hV_LWv77HAa",
    "outputId": "3940e813-fca2-4218-bf35-f10a9dc5a9fe"
   },
   "outputs": [
    {
     "name": "stdout",
     "output_type": "stream",
     "text": [
      "Model fitted and saved as mutual_info_rf_model.pkl\n"
     ]
    }
   ],
   "source": [
    "import pickle\n",
    "#\n",
    "model_filename = 'mutual_info_rf_model.pkl'\n",
    "\n",
    "pickle.dump(pipeline, open(model_filename, 'wb'))\n",
    "print(f\"Model fitted and saved as {model_filename}\")"
   ]
  },
  {
   "cell_type": "code",
   "execution_count": null,
   "metadata": {
    "id": "--O2ECHTy4fM"
   },
   "outputs": [],
   "source": []
  },
  {
   "cell_type": "code",
   "execution_count": null,
   "metadata": {
    "id": "etDaXn2GeHiw"
   },
   "outputs": [],
   "source": []
  },
  {
   "cell_type": "code",
   "execution_count": null,
   "metadata": {
    "id": "3L73BS9YeHtp"
   },
   "outputs": [],
   "source": []
  },
  {
   "cell_type": "code",
   "execution_count": null,
   "metadata": {
    "id": "MMMC1sWV8lPk"
   },
   "outputs": [],
   "source": []
  },
  {
   "cell_type": "code",
   "execution_count": null,
   "metadata": {
    "id": "Vi48HzUF8lSD"
   },
   "outputs": [],
   "source": []
  },
  {
   "cell_type": "code",
   "execution_count": null,
   "metadata": {
    "id": "8ROn7hBj8lU0"
   },
   "outputs": [],
   "source": []
  },
  {
   "cell_type": "code",
   "execution_count": null,
   "metadata": {
    "id": "t0v5uG5u8lXV"
   },
   "outputs": [],
   "source": []
  },
  {
   "cell_type": "code",
   "execution_count": null,
   "metadata": {
    "id": "rveNx5KO8lZ8"
   },
   "outputs": [],
   "source": []
  },
  {
   "cell_type": "code",
   "execution_count": null,
   "metadata": {
    "id": "KVg1EatI_Mg6"
   },
   "outputs": [],
   "source": []
  },
  {
   "cell_type": "code",
   "execution_count": null,
   "metadata": {
    "id": "g1U_-Ex5_NAo"
   },
   "outputs": [],
   "source": []
  },
  {
   "cell_type": "code",
   "execution_count": null,
   "metadata": {
    "id": "t6LrFhd1_NIY"
   },
   "outputs": [],
   "source": []
  },
  {
   "cell_type": "code",
   "execution_count": null,
   "metadata": {
    "id": "iJIqx62s8lcL"
   },
   "outputs": [],
   "source": []
  },
  {
   "cell_type": "code",
   "execution_count": null,
   "metadata": {
    "id": "-UPYtmjq8lef"
   },
   "outputs": [],
   "source": []
  }
 ],
 "metadata": {
  "colab": {
   "provenance": []
  },
  "kernelspec": {
   "display_name": "Python 3 (ipykernel)",
   "language": "python",
   "name": "python3"
  },
  "language_info": {
   "codemirror_mode": {
    "name": "ipython",
    "version": 3
   },
   "file_extension": ".py",
   "mimetype": "text/x-python",
   "name": "python",
   "nbconvert_exporter": "python",
   "pygments_lexer": "ipython3",
   "version": "3.9.7"
  }
 },
 "nbformat": 4,
 "nbformat_minor": 1
}
